{
 "cells": [
  {
   "cell_type": "code",
   "execution_count": 1,
   "metadata": {},
   "outputs": [],
   "source": [
    "import pandas as pd\n",
    "import seaborn as sns\n",
    "import numpy as np\n",
    "import matplotlib.pyplot as plt\n",
    "%matplotlib inline\n",
    "sns.set(style=\"darkgrid\")"
   ]
  },
  {
   "cell_type": "code",
   "execution_count": 2,
   "metadata": {},
   "outputs": [
    {
     "name": "stderr",
     "output_type": "stream",
     "text": [
      "/home/arturo/virtualenv/ml/lib/python3.8/site-packages/IPython/core/interactiveshell.py:3050: DtypeWarning: Columns (1) have mixed types. Specify dtype option on import or set low_memory=False.\n",
      "  has_raised = await self.run_ast_nodes(code_ast.body, cell_name,\n"
     ]
    }
   ],
   "source": [
    "bici=pd.read_csv(\"./csv/bicimuestra.csv\")\n",
    "estacion=pd.read_csv(\"./csv/estaciones.csv\")\n",
    "direccion=pd.read_json(\"./csv/direcciones.json\")"
   ]
  },
  {
   "cell_type": "code",
   "execution_count": 3,
   "metadata": {},
   "outputs": [
    {
     "data": {
      "text/html": [
       "<div>\n",
       "<style scoped>\n",
       "    .dataframe tbody tr th:only-of-type {\n",
       "        vertical-align: middle;\n",
       "    }\n",
       "\n",
       "    .dataframe tbody tr th {\n",
       "        vertical-align: top;\n",
       "    }\n",
       "\n",
       "    .dataframe thead th {\n",
       "        text-align: right;\n",
       "    }\n",
       "</style>\n",
       "<table border=\"1\" class=\"dataframe\">\n",
       "  <thead>\n",
       "    <tr style=\"text-align: right;\">\n",
       "      <th></th>\n",
       "      <th>Unnamed: 0</th>\n",
       "      <th>Bici</th>\n",
       "      <th>Ciclo_Estacion_Arribo</th>\n",
       "      <th>Ciclo_Estacion_Retiro</th>\n",
       "      <th>Edad_Usuario</th>\n",
       "      <th>Fecha_Arribo</th>\n",
       "      <th>Fecha_Retiro</th>\n",
       "      <th>Genero_Usuario</th>\n",
       "      <th>Hora_Arribo</th>\n",
       "      <th>Hora_Retiro</th>\n",
       "    </tr>\n",
       "  </thead>\n",
       "  <tbody>\n",
       "    <tr>\n",
       "      <th>0</th>\n",
       "      <td>131</td>\n",
       "      <td>9546</td>\n",
       "      <td>474</td>\n",
       "      <td>211</td>\n",
       "      <td>32</td>\n",
       "      <td>01/04/2019</td>\n",
       "      <td>01/04/2019</td>\n",
       "      <td>M</td>\n",
       "      <td>05:58:15</td>\n",
       "      <td>05:47:43</td>\n",
       "    </tr>\n",
       "    <tr>\n",
       "      <th>1</th>\n",
       "      <td>642</td>\n",
       "      <td>10880</td>\n",
       "      <td>154</td>\n",
       "      <td>280</td>\n",
       "      <td>27</td>\n",
       "      <td>01/04/2019</td>\n",
       "      <td>01/04/2019</td>\n",
       "      <td>M</td>\n",
       "      <td>06:50:44</td>\n",
       "      <td>06:42:42</td>\n",
       "    </tr>\n",
       "    <tr>\n",
       "      <th>2</th>\n",
       "      <td>673</td>\n",
       "      <td>9606</td>\n",
       "      <td>18</td>\n",
       "      <td>143</td>\n",
       "      <td>36</td>\n",
       "      <td>01/04/2019</td>\n",
       "      <td>01/04/2019</td>\n",
       "      <td>M</td>\n",
       "      <td>06:56:05</td>\n",
       "      <td>06:44:50</td>\n",
       "    </tr>\n",
       "    <tr>\n",
       "      <th>3</th>\n",
       "      <td>729</td>\n",
       "      <td>4234</td>\n",
       "      <td>53</td>\n",
       "      <td>187</td>\n",
       "      <td>22</td>\n",
       "      <td>01/04/2019</td>\n",
       "      <td>01/04/2019</td>\n",
       "      <td>F</td>\n",
       "      <td>06:52:54</td>\n",
       "      <td>06:47:31</td>\n",
       "    </tr>\n",
       "    <tr>\n",
       "      <th>4</th>\n",
       "      <td>733</td>\n",
       "      <td>8191</td>\n",
       "      <td>177</td>\n",
       "      <td>286</td>\n",
       "      <td>29</td>\n",
       "      <td>01/04/2019</td>\n",
       "      <td>01/04/2019</td>\n",
       "      <td>M</td>\n",
       "      <td>06:55:18</td>\n",
       "      <td>06:47:37</td>\n",
       "    </tr>\n",
       "  </tbody>\n",
       "</table>\n",
       "</div>"
      ],
      "text/plain": [
       "   Unnamed: 0   Bici  Ciclo_Estacion_Arribo  Ciclo_Estacion_Retiro  \\\n",
       "0         131   9546                    474                    211   \n",
       "1         642  10880                    154                    280   \n",
       "2         673   9606                     18                    143   \n",
       "3         729   4234                     53                    187   \n",
       "4         733   8191                    177                    286   \n",
       "\n",
       "   Edad_Usuario Fecha_Arribo Fecha_Retiro Genero_Usuario Hora_Arribo  \\\n",
       "0            32   01/04/2019   01/04/2019              M    05:58:15   \n",
       "1            27   01/04/2019   01/04/2019              M    06:50:44   \n",
       "2            36   01/04/2019   01/04/2019              M    06:56:05   \n",
       "3            22   01/04/2019   01/04/2019              F    06:52:54   \n",
       "4            29   01/04/2019   01/04/2019              M    06:55:18   \n",
       "\n",
       "  Hora_Retiro  \n",
       "0    05:47:43  \n",
       "1    06:42:42  \n",
       "2    06:44:50  \n",
       "3    06:47:31  \n",
       "4    06:47:37  "
      ]
     },
     "execution_count": 3,
     "metadata": {},
     "output_type": "execute_result"
    }
   ],
   "source": [
    "bici.head()"
   ]
  },
  {
   "cell_type": "code",
   "execution_count": 4,
   "metadata": {},
   "outputs": [
    {
     "data": {
      "text/html": [
       "<div>\n",
       "<style scoped>\n",
       "    .dataframe tbody tr th:only-of-type {\n",
       "        vertical-align: middle;\n",
       "    }\n",
       "\n",
       "    .dataframe tbody tr th {\n",
       "        vertical-align: top;\n",
       "    }\n",
       "\n",
       "    .dataframe thead th {\n",
       "        text-align: right;\n",
       "    }\n",
       "</style>\n",
       "<table border=\"1\" class=\"dataframe\">\n",
       "  <thead>\n",
       "    <tr style=\"text-align: right;\">\n",
       "      <th></th>\n",
       "      <th>ID</th>\n",
       "      <th>Nombre</th>\n",
       "      <th>Dirección</th>\n",
       "      <th>Número</th>\n",
       "      <th>Código postal</th>\n",
       "      <th>districtCode</th>\n",
       "      <th>Colonia</th>\n",
       "      <th>altitude</th>\n",
       "      <th>nearbyStations/0</th>\n",
       "      <th>location/lat</th>\n",
       "      <th>location/lon</th>\n",
       "      <th>Tipo de estación</th>\n",
       "      <th>nearbyStations/1</th>\n",
       "      <th>nearbyStations/2</th>\n",
       "      <th>nearbyStations/3</th>\n",
       "      <th>nearbyStations/4</th>\n",
       "      <th>nearbyStations/5</th>\n",
       "      <th>punto_geo</th>\n",
       "    </tr>\n",
       "  </thead>\n",
       "  <tbody>\n",
       "    <tr>\n",
       "      <th>0</th>\n",
       "      <td>416</td>\n",
       "      <td>416 RECREO-PARROQUÍA</td>\n",
       "      <td>416 - Recreo-Parroquía</td>\n",
       "      <td>S/N</td>\n",
       "      <td>3104.0</td>\n",
       "      <td>1</td>\n",
       "      <td>Ampliación Granada</td>\n",
       "      <td>NaN</td>\n",
       "      <td>390</td>\n",
       "      <td>19.371308</td>\n",
       "      <td>-99.177607</td>\n",
       "      <td>BIKE</td>\n",
       "      <td>391.0</td>\n",
       "      <td>415.0</td>\n",
       "      <td>NaN</td>\n",
       "      <td>NaN</td>\n",
       "      <td>NaN</td>\n",
       "      <td>19.371308,-99.177607</td>\n",
       "    </tr>\n",
       "    <tr>\n",
       "      <th>1</th>\n",
       "      <td>440</td>\n",
       "      <td>440 REAL DE MAYORAZGO-PUENTE XOCO</td>\n",
       "      <td>440 - Real De Mayorazgo-Puente Xoco</td>\n",
       "      <td>S/N</td>\n",
       "      <td>3330.0</td>\n",
       "      <td>1</td>\n",
       "      <td>Ampliación Granada</td>\n",
       "      <td>NaN</td>\n",
       "      <td>433</td>\n",
       "      <td>19.360650</td>\n",
       "      <td>-99.168669</td>\n",
       "      <td>BIKE</td>\n",
       "      <td>439.0</td>\n",
       "      <td>441.0</td>\n",
       "      <td>NaN</td>\n",
       "      <td>NaN</td>\n",
       "      <td>NaN</td>\n",
       "      <td>19.36065,-99.168669</td>\n",
       "    </tr>\n",
       "    <tr>\n",
       "      <th>2</th>\n",
       "      <td>70</td>\n",
       "      <td>70 PARQUE MEXICO-MICHOACAN</td>\n",
       "      <td>070 - Parque México - Michoacan</td>\n",
       "      <td>S/N</td>\n",
       "      <td>6100.0</td>\n",
       "      <td>1</td>\n",
       "      <td>Ampliación Granada</td>\n",
       "      <td>NaN</td>\n",
       "      <td>69</td>\n",
       "      <td>19.411272</td>\n",
       "      <td>-99.169718</td>\n",
       "      <td>BIKE,TPV</td>\n",
       "      <td>71.0</td>\n",
       "      <td>76.0</td>\n",
       "      <td>NaN</td>\n",
       "      <td>NaN</td>\n",
       "      <td>NaN</td>\n",
       "      <td>19.411272,-99.169718</td>\n",
       "    </tr>\n",
       "    <tr>\n",
       "      <th>3</th>\n",
       "      <td>325</td>\n",
       "      <td>325 PROVIDENCIA -AVENIDA DEL VALLE</td>\n",
       "      <td>325 - Providencia -Avenida Del Valle</td>\n",
       "      <td>S/N</td>\n",
       "      <td>3100.0</td>\n",
       "      <td>1</td>\n",
       "      <td>Ampliación Granada</td>\n",
       "      <td>NaN</td>\n",
       "      <td>316</td>\n",
       "      <td>19.388178</td>\n",
       "      <td>-99.169689</td>\n",
       "      <td>BIKE</td>\n",
       "      <td>335.0</td>\n",
       "      <td>336.0</td>\n",
       "      <td>NaN</td>\n",
       "      <td>NaN</td>\n",
       "      <td>NaN</td>\n",
       "      <td>19.3881779,-99.1696894</td>\n",
       "    </tr>\n",
       "    <tr>\n",
       "      <th>4</th>\n",
       "      <td>252</td>\n",
       "      <td>252 VICTOR HUGO-SHAKESPEARE</td>\n",
       "      <td>252 - Víctor Hugo-Shakespeare</td>\n",
       "      <td>S/N</td>\n",
       "      <td>11510.0</td>\n",
       "      <td>2</td>\n",
       "      <td>Anzures</td>\n",
       "      <td>NaN</td>\n",
       "      <td>249</td>\n",
       "      <td>19.427575</td>\n",
       "      <td>-99.177020</td>\n",
       "      <td>BIKE</td>\n",
       "      <td>251.0</td>\n",
       "      <td>253.0</td>\n",
       "      <td>NaN</td>\n",
       "      <td>NaN</td>\n",
       "      <td>NaN</td>\n",
       "      <td>19.427575,-99.17702</td>\n",
       "    </tr>\n",
       "  </tbody>\n",
       "</table>\n",
       "</div>"
      ],
      "text/plain": [
       "    ID                              Nombre  \\\n",
       "0  416                416 RECREO-PARROQUÍA   \n",
       "1  440   440 REAL DE MAYORAZGO-PUENTE XOCO   \n",
       "2   70          70 PARQUE MEXICO-MICHOACAN   \n",
       "3  325  325 PROVIDENCIA -AVENIDA DEL VALLE   \n",
       "4  252         252 VICTOR HUGO-SHAKESPEARE   \n",
       "\n",
       "                              Dirección Número  Código postal districtCode  \\\n",
       "0                416 - Recreo-Parroquía    S/N         3104.0            1   \n",
       "1   440 - Real De Mayorazgo-Puente Xoco    S/N         3330.0            1   \n",
       "2       070 - Parque México - Michoacan    S/N         6100.0            1   \n",
       "3  325 - Providencia -Avenida Del Valle    S/N         3100.0            1   \n",
       "4         252 - Víctor Hugo-Shakespeare    S/N        11510.0            2   \n",
       "\n",
       "              Colonia  altitude  nearbyStations/0  location/lat  location/lon  \\\n",
       "0  Ampliación Granada       NaN               390     19.371308    -99.177607   \n",
       "1  Ampliación Granada       NaN               433     19.360650    -99.168669   \n",
       "2  Ampliación Granada       NaN                69     19.411272    -99.169718   \n",
       "3  Ampliación Granada       NaN               316     19.388178    -99.169689   \n",
       "4             Anzures       NaN               249     19.427575    -99.177020   \n",
       "\n",
       "  Tipo de estación  nearbyStations/1  nearbyStations/2  nearbyStations/3  \\\n",
       "0             BIKE             391.0             415.0               NaN   \n",
       "1             BIKE             439.0             441.0               NaN   \n",
       "2         BIKE,TPV              71.0              76.0               NaN   \n",
       "3             BIKE             335.0             336.0               NaN   \n",
       "4             BIKE             251.0             253.0               NaN   \n",
       "\n",
       "   nearbyStations/4  nearbyStations/5               punto_geo  \n",
       "0               NaN               NaN    19.371308,-99.177607  \n",
       "1               NaN               NaN     19.36065,-99.168669  \n",
       "2               NaN               NaN    19.411272,-99.169718  \n",
       "3               NaN               NaN  19.3881779,-99.1696894  \n",
       "4               NaN               NaN     19.427575,-99.17702  "
      ]
     },
     "execution_count": 4,
     "metadata": {},
     "output_type": "execute_result"
    }
   ],
   "source": [
    "estacion.head()"
   ]
  },
  {
   "cell_type": "code",
   "execution_count": 5,
   "metadata": {},
   "outputs": [],
   "source": [
    "bici=bici.drop(columns=[\"Unnamed: 0\",\"Fecha_Arribo\",\"Fecha_Retiro\"])"
   ]
  },
  {
   "cell_type": "code",
   "execution_count": 6,
   "metadata": {},
   "outputs": [],
   "source": [
    "import json\n",
    "def dictToDf(listOfJSON):\n",
    "    arr = []\n",
    "    for i in listOfJSON:\n",
    "        arr.append(i)\n",
    "    return pd.DataFrame(arr)"
   ]
  },
  {
   "cell_type": "code",
   "execution_count": 7,
   "metadata": {},
   "outputs": [],
   "source": [
    "tmp=dictToDf(direccion[\"address\"])"
   ]
  },
  {
   "cell_type": "code",
   "execution_count": 8,
   "metadata": {},
   "outputs": [],
   "source": [
    "direccion=direccion.join(tmp)"
   ]
  },
  {
   "cell_type": "code",
   "execution_count": 9,
   "metadata": {},
   "outputs": [],
   "source": [
    "direccion=direccion.join(estacion)"
   ]
  },
  {
   "cell_type": "code",
   "execution_count": 10,
   "metadata": {},
   "outputs": [],
   "source": [
    "cols=[\"ID\",\"Nombre\",\"lat\",\"lon\",\"Tipo de estación\",\"Dirección\",\"districtCode\",\"county\",\"postcode\"]\n",
    "changea=[\"a_ID\",\"a_Nombre\",\"a_lat\",\"a_lon\",\"a_Tipo de estación\",\"a_Dirección\",\"a_districtCode\",\"a_county\",\"a_postcode\"]\n",
    "changer=[\"r_ID\",\"r_Nombre\",\"r_lat\",\"r_lon\",\"r_Tipo de estación\",\"r_Dirección\",\"r_districtCode\",\"r_county\",\"r_postcode\"]"
   ]
  },
  {
   "cell_type": "code",
   "execution_count": 11,
   "metadata": {},
   "outputs": [],
   "source": [
    "df=pd.merge(bici,direccion[cols],left_on=\"Ciclo_Estacion_Arribo\",right_on=\"ID\",how=\"inner\")\n",
    "df=df.rename(columns=dict(zip(cols,changea)))"
   ]
  },
  {
   "cell_type": "code",
   "execution_count": 12,
   "metadata": {},
   "outputs": [],
   "source": [
    "df=pd.merge(df,direccion[cols],left_on=\"Ciclo_Estacion_Retiro\",right_on=\"ID\",how=\"inner\")\n",
    "df=df.rename(columns=dict(zip(cols,changer)))"
   ]
  },
  {
   "cell_type": "code",
   "execution_count": 13,
   "metadata": {},
   "outputs": [],
   "source": [
    "df[\"Hora_Arribo\"]=pd.to_datetime(df[\"Hora_Arribo\"])\n",
    "df[\"Hora_Retiro\"]=pd.to_datetime(df[\"Hora_Retiro\"])"
   ]
  },
  {
   "cell_type": "code",
   "execution_count": 14,
   "metadata": {},
   "outputs": [
    {
     "data": {
      "text/html": [
       "<div>\n",
       "<style scoped>\n",
       "    .dataframe tbody tr th:only-of-type {\n",
       "        vertical-align: middle;\n",
       "    }\n",
       "\n",
       "    .dataframe tbody tr th {\n",
       "        vertical-align: top;\n",
       "    }\n",
       "\n",
       "    .dataframe thead th {\n",
       "        text-align: right;\n",
       "    }\n",
       "</style>\n",
       "<table border=\"1\" class=\"dataframe\">\n",
       "  <thead>\n",
       "    <tr style=\"text-align: right;\">\n",
       "      <th></th>\n",
       "      <th>0</th>\n",
       "    </tr>\n",
       "  </thead>\n",
       "  <tbody>\n",
       "    <tr>\n",
       "      <th>Bici</th>\n",
       "      <td>0</td>\n",
       "    </tr>\n",
       "    <tr>\n",
       "      <th>Ciclo_Estacion_Arribo</th>\n",
       "      <td>0</td>\n",
       "    </tr>\n",
       "    <tr>\n",
       "      <th>Ciclo_Estacion_Retiro</th>\n",
       "      <td>0</td>\n",
       "    </tr>\n",
       "    <tr>\n",
       "      <th>Edad_Usuario</th>\n",
       "      <td>0</td>\n",
       "    </tr>\n",
       "    <tr>\n",
       "      <th>Genero_Usuario</th>\n",
       "      <td>0</td>\n",
       "    </tr>\n",
       "    <tr>\n",
       "      <th>Hora_Arribo</th>\n",
       "      <td>0</td>\n",
       "    </tr>\n",
       "    <tr>\n",
       "      <th>Hora_Retiro</th>\n",
       "      <td>0</td>\n",
       "    </tr>\n",
       "    <tr>\n",
       "      <th>a_ID</th>\n",
       "      <td>0</td>\n",
       "    </tr>\n",
       "    <tr>\n",
       "      <th>a_Nombre</th>\n",
       "      <td>0</td>\n",
       "    </tr>\n",
       "    <tr>\n",
       "      <th>a_lat</th>\n",
       "      <td>0</td>\n",
       "    </tr>\n",
       "    <tr>\n",
       "      <th>a_lon</th>\n",
       "      <td>0</td>\n",
       "    </tr>\n",
       "    <tr>\n",
       "      <th>a_Tipo de estación</th>\n",
       "      <td>0</td>\n",
       "    </tr>\n",
       "    <tr>\n",
       "      <th>a_Dirección</th>\n",
       "      <td>0</td>\n",
       "    </tr>\n",
       "    <tr>\n",
       "      <th>a_districtCode</th>\n",
       "      <td>247</td>\n",
       "    </tr>\n",
       "    <tr>\n",
       "      <th>a_county</th>\n",
       "      <td>0</td>\n",
       "    </tr>\n",
       "    <tr>\n",
       "      <th>a_postcode</th>\n",
       "      <td>2262</td>\n",
       "    </tr>\n",
       "    <tr>\n",
       "      <th>r_ID</th>\n",
       "      <td>0</td>\n",
       "    </tr>\n",
       "    <tr>\n",
       "      <th>r_Nombre</th>\n",
       "      <td>0</td>\n",
       "    </tr>\n",
       "    <tr>\n",
       "      <th>r_lat</th>\n",
       "      <td>0</td>\n",
       "    </tr>\n",
       "    <tr>\n",
       "      <th>r_lon</th>\n",
       "      <td>0</td>\n",
       "    </tr>\n",
       "    <tr>\n",
       "      <th>r_Tipo de estación</th>\n",
       "      <td>0</td>\n",
       "    </tr>\n",
       "    <tr>\n",
       "      <th>r_Dirección</th>\n",
       "      <td>0</td>\n",
       "    </tr>\n",
       "    <tr>\n",
       "      <th>r_districtCode</th>\n",
       "      <td>229</td>\n",
       "    </tr>\n",
       "    <tr>\n",
       "      <th>r_county</th>\n",
       "      <td>0</td>\n",
       "    </tr>\n",
       "    <tr>\n",
       "      <th>r_postcode</th>\n",
       "      <td>2197</td>\n",
       "    </tr>\n",
       "  </tbody>\n",
       "</table>\n",
       "</div>"
      ],
      "text/plain": [
       "                          0\n",
       "Bici                      0\n",
       "Ciclo_Estacion_Arribo     0\n",
       "Ciclo_Estacion_Retiro     0\n",
       "Edad_Usuario              0\n",
       "Genero_Usuario            0\n",
       "Hora_Arribo               0\n",
       "Hora_Retiro               0\n",
       "a_ID                      0\n",
       "a_Nombre                  0\n",
       "a_lat                     0\n",
       "a_lon                     0\n",
       "a_Tipo de estación        0\n",
       "a_Dirección               0\n",
       "a_districtCode          247\n",
       "a_county                  0\n",
       "a_postcode             2262\n",
       "r_ID                      0\n",
       "r_Nombre                  0\n",
       "r_lat                     0\n",
       "r_lon                     0\n",
       "r_Tipo de estación        0\n",
       "r_Dirección               0\n",
       "r_districtCode          229\n",
       "r_county                  0\n",
       "r_postcode             2197"
      ]
     },
     "execution_count": 14,
     "metadata": {},
     "output_type": "execute_result"
    }
   ],
   "source": [
    "df.isnull().sum().to_frame()"
   ]
  },
  {
   "cell_type": "code",
   "execution_count": 15,
   "metadata": {},
   "outputs": [],
   "source": [
    "# calcula la distancia en base  de la longitud y latitud de dos puntos\n",
    "from math import radians, sin, cos, acos\n",
    "def distance(lat1,lon1,lat2,lon2):\n",
    "    if lat1==lat2 and lon1==lon2:\n",
    "        return 0\n",
    "    slat = radians(lat1)\n",
    "    slon = radians(lon1)\n",
    "    elat = radians(lat2)\n",
    "    elon = radians(lon2)\n",
    "    \n",
    "    return 6371.01 *acos(sin(slat)*sin(elat) + cos(slat)*cos(elat)*cos(slon - elon))"
   ]
  },
  {
   "cell_type": "code",
   "execution_count": 16,
   "metadata": {},
   "outputs": [],
   "source": [
    "df[\"distancia\"]=df.apply(lambda x: distance(x[\"r_lat\"],x[\"r_lon\"],x[\"a_lat\"],x[\"a_lon\"]),axis=1)\n",
    "df=df[df[\"Edad_Usuario\"]<66]"
   ]
  },
  {
   "cell_type": "code",
   "execution_count": 17,
   "metadata": {},
   "outputs": [
    {
     "data": {
      "text/plain": [
       "count    169023.000000\n",
       "mean          1.749877\n",
       "std           1.315375\n",
       "min           0.000000\n",
       "25%           0.823569\n",
       "50%           1.385493\n",
       "75%           2.331555\n",
       "max          10.421930\n",
       "Name: distancia, dtype: float64"
      ]
     },
     "execution_count": 17,
     "metadata": {},
     "output_type": "execute_result"
    }
   ],
   "source": [
    "df[\"distancia\"].describe()"
   ]
  },
  {
   "cell_type": "code",
   "execution_count": 18,
   "metadata": {},
   "outputs": [],
   "source": [
    "df[\"minutos_usados\"]=(df[\"Hora_Arribo\"]-df[\"Hora_Retiro\"])/ np.timedelta64(1, 'm')"
   ]
  },
  {
   "cell_type": "code",
   "execution_count": 19,
   "metadata": {},
   "outputs": [],
   "source": [
    "df[\"h_arribo\"]=df[\"Hora_Arribo\"].dt.hour\n",
    "df[\"h_retiro\"]=df[\"Hora_Retiro\"].dt.hour"
   ]
  },
  {
   "cell_type": "code",
   "execution_count": 20,
   "metadata": {},
   "outputs": [
    {
     "data": {
      "text/plain": [
       "count    169023.000000\n",
       "mean         11.592106\n",
       "std          60.163217\n",
       "min       -1437.750000\n",
       "0%        -1437.750000\n",
       "1%            2.153667\n",
       "5%            3.433333\n",
       "10%           4.383333\n",
       "20%           5.966667\n",
       "30%           7.450000\n",
       "40%           9.050000\n",
       "50%          10.866667\n",
       "60%          13.083333\n",
       "70%          15.883333\n",
       "80%          19.900000\n",
       "90%          26.616667\n",
       "95%          33.081667\n",
       "99%          49.250000\n",
       "max         965.600000\n",
       "Name: minutos_usados, dtype: float64"
      ]
     },
     "execution_count": 20,
     "metadata": {},
     "output_type": "execute_result"
    }
   ],
   "source": [
    "df[\"minutos_usados\"].describe(percentiles = [x/10 for x in range(10)] + [0.01, 0.05, 0.95, 0.99])"
   ]
  },
  {
   "cell_type": "code",
   "execution_count": 21,
   "metadata": {},
   "outputs": [],
   "source": [
    "def percentiles(df,variable):\n",
    "    desc = df[variable].describe(percentiles=[0.01,0.99])\n",
    "    aux = df.copy()\n",
    "    return aux[(aux[variable]>desc[\"1%\"]) & (aux[variable]<desc[\"99%\"])]"
   ]
  },
  {
   "cell_type": "code",
   "execution_count": 22,
   "metadata": {},
   "outputs": [],
   "source": [
    "aux=percentiles(df,\"minutos_usados\")"
   ]
  },
  {
   "cell_type": "code",
   "execution_count": 23,
   "metadata": {},
   "outputs": [
    {
     "data": {
      "text/plain": [
       "count    165639.000000\n",
       "mean         13.303422\n",
       "std           8.748409\n",
       "min           2.166667\n",
       "0%            2.166667\n",
       "1%            2.600000\n",
       "5%            3.616667\n",
       "10%           4.516667\n",
       "20%           6.050000\n",
       "30%           7.516667\n",
       "40%           9.083333\n",
       "50%          10.866667\n",
       "60%          13.033333\n",
       "70%          15.750000\n",
       "80%          19.600000\n",
       "90%          25.900000\n",
       "95%          31.516667\n",
       "99%          41.427000\n",
       "max          49.216667\n",
       "Name: minutos_usados, dtype: float64"
      ]
     },
     "execution_count": 23,
     "metadata": {},
     "output_type": "execute_result"
    }
   ],
   "source": [
    "aux[\"minutos_usados\"].describe(percentiles = [x/10 for x in range(10)] + [0.01, 0.05, 0.95, 0.99])"
   ]
  },
  {
   "cell_type": "code",
   "execution_count": 24,
   "metadata": {},
   "outputs": [],
   "source": [
    "def velocidad(dist,tiempo):\n",
    "    return dist/(tiempo/60)"
   ]
  },
  {
   "cell_type": "code",
   "execution_count": 25,
   "metadata": {},
   "outputs": [],
   "source": [
    "aux[\"velocidad\"]=aux.apply(lambda x: velocidad(x[\"distancia\"],x[\"minutos_usados\"]),axis=1)"
   ]
  },
  {
   "cell_type": "code",
   "execution_count": 26,
   "metadata": {},
   "outputs": [
    {
     "data": {
      "text/plain": [
       "count    165639.000000\n",
       "mean          8.339853\n",
       "std           3.165682\n",
       "min           0.000000\n",
       "0%            0.000000\n",
       "1%            0.000000\n",
       "5%            2.113746\n",
       "10%           4.314097\n",
       "20%           6.102672\n",
       "30%           7.093546\n",
       "40%           7.861816\n",
       "50%           8.554520\n",
       "60%           9.233119\n",
       "70%           9.974607\n",
       "80%          10.831586\n",
       "90%          12.064441\n",
       "95%          13.124224\n",
       "99%          15.255067\n",
       "max          24.514679\n",
       "Name: velocidad, dtype: float64"
      ]
     },
     "execution_count": 26,
     "metadata": {},
     "output_type": "execute_result"
    }
   ],
   "source": [
    "aux[\"velocidad\"].describe(percentiles = [x/10 for x in range(10)] + [0.01, 0.05, 0.95, 0.99])"
   ]
  },
  {
   "cell_type": "code",
   "execution_count": 27,
   "metadata": {},
   "outputs": [
    {
     "data": {
      "text/plain": [
       "{'whiskers': [<matplotlib.lines.Line2D at 0x7f5cc35cc5b0>,\n",
       "  <matplotlib.lines.Line2D at 0x7f5cc35cc910>],\n",
       " 'caps': [<matplotlib.lines.Line2D at 0x7f5cc35ccc40>,\n",
       "  <matplotlib.lines.Line2D at 0x7f5cc35f52e0>],\n",
       " 'boxes': [<matplotlib.lines.Line2D at 0x7f5cc35cc580>],\n",
       " 'medians': [<matplotlib.lines.Line2D at 0x7f5cc35f5610>],\n",
       " 'fliers': [<matplotlib.lines.Line2D at 0x7f5cc35cc520>],\n",
       " 'means': []}"
      ]
     },
     "execution_count": 27,
     "metadata": {},
     "output_type": "execute_result"
    },
    {
     "data": {
      "image/png": "[encoded data removed]",
      "text/plain": [
       "<Figure size 432x288 with 1 Axes>"
      ]
     },
     "metadata": {},
     "output_type": "display_data"
    }
   ],
   "source": [
    "fig, ax = plt.subplots()\n",
    "ax.boxplot(x=bici[\"Edad_Usuario\"])"
   ]
  },
  {
   "cell_type": "code",
   "execution_count": 28,
   "metadata": {},
   "outputs": [
    {
     "data": {
      "text/plain": [
       "<matplotlib.axes._subplots.AxesSubplot at 0x7f5cc4238eb0>"
      ]
     },
     "execution_count": 28,
     "metadata": {},
     "output_type": "execute_result"
    },
    {
     "data": {
      "image/png": "[encoded data removed]",
      "text/plain": [
       "<Figure size 432x288 with 1 Axes>"
      ]
     },
     "metadata": {},
     "output_type": "display_data"
    }
   ],
   "source": [
    "\n",
    "sns.boxplot(x=\"Genero_Usuario\",y=\"Edad_Usuario\",data=bici)"
   ]
  },
  {
   "cell_type": "code",
   "execution_count": 29,
   "metadata": {},
   "outputs": [
    {
     "data": {
      "text/plain": [
       "array([[<matplotlib.axes._subplots.AxesSubplot object at 0x7f5ccbcffaf0>,\n",
       "        <matplotlib.axes._subplots.AxesSubplot object at 0x7f5ccbc9dfa0>]],\n",
       "      dtype=object)"
      ]
     },
     "execution_count": 29,
     "metadata": {},
     "output_type": "execute_result"
    },
    {
     "data": {
      "image/png": "[encoded data removed]",
      "text/plain": [
       "<Figure size 1440x720 with 2 Axes>"
      ]
     },
     "metadata": {},
     "output_type": "display_data"
    }
   ],
   "source": [
    "cols=[\"h_retiro\",\"h_arribo\"]\n",
    "aux[cols].hist(figsize=(20,10))"
   ]
  },
  {
   "cell_type": "code",
   "execution_count": 30,
   "metadata": {},
   "outputs": [
    {
     "data": {
      "text/plain": [
       "array([[<matplotlib.axes._subplots.AxesSubplot object at 0x7f5ccbbdbe80>,\n",
       "        <matplotlib.axes._subplots.AxesSubplot object at 0x7f5ccbbfd640>],\n",
       "       [<matplotlib.axes._subplots.AxesSubplot object at 0x7f5ccbbc0d00>,\n",
       "        <matplotlib.axes._subplots.AxesSubplot object at 0x7f5ccbb83490>]],\n",
       "      dtype=object)"
      ]
     },
     "execution_count": 30,
     "metadata": {},
     "output_type": "execute_result"
    },
    {
     "data": {
      "image/png": "[encoded data removed]",
      "text/plain": [
       "<Figure size 1440x720 with 4 Axes>"
      ]
     },
     "metadata": {},
     "output_type": "display_data"
    }
   ],
   "source": [
    "cols=[\"distancia\",\"minutos_usados\",\"velocidad\"]\n",
    "aux[aux[\"Ciclo_Estacion_Arribo\"]==211][cols].hist(figsize=(20,10))"
   ]
  },
  {
   "cell_type": "code",
   "execution_count": 31,
   "metadata": {},
   "outputs": [
    {
     "data": {
      "text/plain": [
       "Cuauhtémoc        96499\n",
       "Miguel Hidalgo    35809\n",
       "Benito Juárez     33331\n",
       "Name: r_county, dtype: int64"
      ]
     },
     "execution_count": 31,
     "metadata": {},
     "output_type": "execute_result"
    }
   ],
   "source": [
    "aux[\"r_county\"].value_counts()"
   ]
  },
  {
   "cell_type": "code",
   "execution_count": 32,
   "metadata": {},
   "outputs": [
    {
     "data": {
      "text/plain": [
       "Cuauhtémoc        100323\n",
       "Benito Juárez      32841\n",
       "Miguel Hidalgo     32475\n",
       "Name: a_county, dtype: int64"
      ]
     },
     "execution_count": 32,
     "metadata": {},
     "output_type": "execute_result"
    }
   ],
   "source": [
    "aux[\"a_county\"].value_counts()"
   ]
  },
  {
   "cell_type": "code",
   "execution_count": 33,
   "metadata": {},
   "outputs": [
    {
     "data": {
      "text/plain": [
       "a_postcode\n",
       "03740    10.593965\n",
       "03200    10.985555\n",
       "03330    11.113880\n",
       "06100    11.418913\n",
       "11550    11.449871\n",
       "           ...    \n",
       "11529    17.606098\n",
       "03600    17.690879\n",
       "06000    19.214511\n",
       "11000    19.362331\n",
       "11040    19.533994\n",
       "Name: minutos_usados, Length: 66, dtype: float64"
      ]
     },
     "execution_count": 33,
     "metadata": {},
     "output_type": "execute_result"
    }
   ],
   "source": [
    "aux.groupby([\"a_postcode\"]).mean()[\"minutos_usados\"].sort_values()"
   ]
  },
  {
   "cell_type": "code",
   "execution_count": 34,
   "metadata": {},
   "outputs": [
    {
     "data": {
      "text/plain": [
       "r_postcode\n",
       "03740    11.011857\n",
       "03104    11.259530\n",
       "03240    11.468289\n",
       "03200    11.524882\n",
       "06100    11.651469\n",
       "           ...    \n",
       "06000    17.204952\n",
       "11529    17.399249\n",
       "11040    19.269077\n",
       "11480    19.429017\n",
       "11000    21.838159\n",
       "Name: minutos_usados, Length: 66, dtype: float64"
      ]
     },
     "execution_count": 34,
     "metadata": {},
     "output_type": "execute_result"
    }
   ],
   "source": [
    "aux.groupby([\"r_postcode\"]).mean()[\"minutos_usados\"].sort_values()"
   ]
  },
  {
   "cell_type": "code",
   "execution_count": 35,
   "metadata": {},
   "outputs": [
    {
     "data": {
      "text/plain": [
       "<matplotlib.axes._subplots.AxesSubplot at 0x7f5ccbae22e0>"
      ]
     },
     "execution_count": 35,
     "metadata": {},
     "output_type": "execute_result"
    },
    {
     "data": {
      "image/png": "[encoded data removed]",
      "text/plain": [
       "<Figure size 1440x720 with 1 Axes>"
      ]
     },
     "metadata": {},
     "output_type": "display_data"
    }
   ],
   "source": [
    "aux.groupby([\"a_postcode\"]).mean()[\"minutos_usados\"].hist(figsize=(20,10))"
   ]
  },
  {
   "cell_type": "code",
   "execution_count": 36,
   "metadata": {},
   "outputs": [
    {
     "data": {
      "text/plain": [
       "<matplotlib.axes._subplots.AxesSubplot at 0x7f5cca9d7d30>"
      ]
     },
     "execution_count": 36,
     "metadata": {},
     "output_type": "execute_result"
    },
    {
     "data": {
      "image/png": "[encoded data removed]",
      "text/plain": [
       "<Figure size 1440x720 with 1 Axes>"
      ]
     },
     "metadata": {},
     "output_type": "display_data"
    }
   ],
   "source": [
    "aux.groupby([\"r_postcode\"]).mean()[\"minutos_usados\"].hist(figsize=(20,10))"
   ]
  },
  {
   "cell_type": "code",
   "execution_count": 37,
   "metadata": {},
   "outputs": [],
   "source": [
    "test=aux[aux[\"h_retiro\"]==18][[\"r_county\",\"a_county\",\"Bici\"]].groupby([\"r_county\",\"a_county\"]).count().reset_index()"
   ]
  },
  {
   "cell_type": "code",
   "execution_count": 38,
   "metadata": {},
   "outputs": [
    {
     "data": {
      "text/html": [
       "<div>\n",
       "<style scoped>\n",
       "    .dataframe tbody tr th:only-of-type {\n",
       "        vertical-align: middle;\n",
       "    }\n",
       "\n",
       "    .dataframe tbody tr th {\n",
       "        vertical-align: top;\n",
       "    }\n",
       "\n",
       "    .dataframe thead th {\n",
       "        text-align: right;\n",
       "    }\n",
       "</style>\n",
       "<table border=\"1\" class=\"dataframe\">\n",
       "  <thead>\n",
       "    <tr style=\"text-align: right;\">\n",
       "      <th></th>\n",
       "      <th>r_county</th>\n",
       "      <th>a_county</th>\n",
       "      <th>Bici</th>\n",
       "    </tr>\n",
       "  </thead>\n",
       "  <tbody>\n",
       "    <tr>\n",
       "      <th>0</th>\n",
       "      <td>Benito Juárez</td>\n",
       "      <td>Benito Juárez</td>\n",
       "      <td>2144</td>\n",
       "    </tr>\n",
       "    <tr>\n",
       "      <th>1</th>\n",
       "      <td>Benito Juárez</td>\n",
       "      <td>Cuauhtémoc</td>\n",
       "      <td>719</td>\n",
       "    </tr>\n",
       "    <tr>\n",
       "      <th>2</th>\n",
       "      <td>Benito Juárez</td>\n",
       "      <td>Miguel Hidalgo</td>\n",
       "      <td>212</td>\n",
       "    </tr>\n",
       "    <tr>\n",
       "      <th>3</th>\n",
       "      <td>Cuauhtémoc</td>\n",
       "      <td>Benito Juárez</td>\n",
       "      <td>658</td>\n",
       "    </tr>\n",
       "    <tr>\n",
       "      <th>4</th>\n",
       "      <td>Cuauhtémoc</td>\n",
       "      <td>Cuauhtémoc</td>\n",
       "      <td>7283</td>\n",
       "    </tr>\n",
       "    <tr>\n",
       "      <th>5</th>\n",
       "      <td>Cuauhtémoc</td>\n",
       "      <td>Miguel Hidalgo</td>\n",
       "      <td>719</td>\n",
       "    </tr>\n",
       "    <tr>\n",
       "      <th>6</th>\n",
       "      <td>Miguel Hidalgo</td>\n",
       "      <td>Benito Juárez</td>\n",
       "      <td>389</td>\n",
       "    </tr>\n",
       "    <tr>\n",
       "      <th>7</th>\n",
       "      <td>Miguel Hidalgo</td>\n",
       "      <td>Cuauhtémoc</td>\n",
       "      <td>2517</td>\n",
       "    </tr>\n",
       "    <tr>\n",
       "      <th>8</th>\n",
       "      <td>Miguel Hidalgo</td>\n",
       "      <td>Miguel Hidalgo</td>\n",
       "      <td>1786</td>\n",
       "    </tr>\n",
       "  </tbody>\n",
       "</table>\n",
       "</div>"
      ],
      "text/plain": [
       "         r_county        a_county  Bici\n",
       "0   Benito Juárez   Benito Juárez  2144\n",
       "1   Benito Juárez      Cuauhtémoc   719\n",
       "2   Benito Juárez  Miguel Hidalgo   212\n",
       "3      Cuauhtémoc   Benito Juárez   658\n",
       "4      Cuauhtémoc      Cuauhtémoc  7283\n",
       "5      Cuauhtémoc  Miguel Hidalgo   719\n",
       "6  Miguel Hidalgo   Benito Juárez   389\n",
       "7  Miguel Hidalgo      Cuauhtémoc  2517\n",
       "8  Miguel Hidalgo  Miguel Hidalgo  1786"
      ]
     },
     "execution_count": 38,
     "metadata": {},
     "output_type": "execute_result"
    }
   ],
   "source": [
    "test"
   ]
  },
  {
   "cell_type": "code",
   "execution_count": 39,
   "metadata": {},
   "outputs": [
    {
     "data": {
      "text/plain": [
       "<seaborn.axisgrid.FacetGrid at 0x7f5cca981a00>"
      ]
     },
     "execution_count": 39,
     "metadata": {},
     "output_type": "execute_result"
    },
    {
     "data": {
      "image/png": "[encoded data removed]",
      "text/plain": [
       "<Figure size 553.725x432 with 1 Axes>"
      ]
     },
     "metadata": {},
     "output_type": "display_data"
    }
   ],
   "source": [
    "# Draw a nested barplot to show survival for class and sex\n",
    "g = sns.catplot(x=\"r_county\", y=\"Bici\", hue=\"a_county\", data=test,\n",
    "                height=6, kind=\"bar\", palette=\"muted\")\n",
    "g.despine(left=True)\n",
    "g.set_ylabels(\"survival probability\")"
   ]
  },
  {
   "cell_type": "code",
   "execution_count": 40,
   "metadata": {},
   "outputs": [
    {
     "data": {
      "text/plain": [
       "Index(['Bici', 'Ciclo_Estacion_Arribo', 'Ciclo_Estacion_Retiro',\n",
       "       'Edad_Usuario', 'Genero_Usuario', 'Hora_Arribo', 'Hora_Retiro', 'a_ID',\n",
       "       'a_Nombre', 'a_lat', 'a_lon', 'a_Tipo de estación', 'a_Dirección',\n",
       "       'a_districtCode', 'a_county', 'a_postcode', 'r_ID', 'r_Nombre', 'r_lat',\n",
       "       'r_lon', 'r_Tipo de estación', 'r_Dirección', 'r_districtCode',\n",
       "       'r_county', 'r_postcode', 'distancia', 'minutos_usados', 'h_arribo',\n",
       "       'h_retiro', 'velocidad'],\n",
       "      dtype='object')"
      ]
     },
     "execution_count": 40,
     "metadata": {},
     "output_type": "execute_result"
    }
   ],
   "source": [
    "aux.columns"
   ]
  },
  {
   "cell_type": "code",
   "execution_count": 131,
   "metadata": {},
   "outputs": [
    {
     "data": {
      "text/plain": [
       "Bici                             object\n",
       "Ciclo_Estacion_Arribo             int64\n",
       "Ciclo_Estacion_Retiro             int64\n",
       "Edad_Usuario                      int64\n",
       "Genero_Usuario                   object\n",
       "Hora_Arribo              datetime64[ns]\n",
       "Hora_Retiro              datetime64[ns]\n",
       "a_ID                              int64\n",
       "a_Nombre                         object\n",
       "a_lat                           float64\n",
       "a_lon                           float64\n",
       "a_Tipo de estación               object\n",
       "a_Dirección                      object\n",
       "a_districtCode                   object\n",
       "a_county                         object\n",
       "a_postcode                       object\n",
       "r_ID                              int64\n",
       "r_Nombre                         object\n",
       "r_lat                           float64\n",
       "r_lon                           float64\n",
       "r_Tipo de estación               object\n",
       "r_Dirección                      object\n",
       "r_districtCode                   object\n",
       "r_county                         object\n",
       "r_postcode                       object\n",
       "distancia                       float64\n",
       "minutos_usados                  float64\n",
       "h_arribo                          int64\n",
       "h_retiro                          int64\n",
       "velocidad                       float64\n",
       "dtype: object"
      ]
     },
     "execution_count": 131,
     "metadata": {},
     "output_type": "execute_result"
    }
   ],
   "source": [
    "aux.dtypes"
   ]
  },
  {
   "cell_type": "code",
   "execution_count": 343,
   "metadata": {},
   "outputs": [],
   "source": [
    "cols=[\"Ciclo_Estacion_Retiro\",\"Edad_Usuario\",'distancia','minutos_usados','velocidad','h_retiro']\n",
    "tad_r = aux[cols].groupby([\"Ciclo_Estacion_Retiro\"]).agg([\"max\",\"var\",\"min\"]).reset_index()"
   ]
  },
  {
   "cell_type": "code",
   "execution_count": 344,
   "metadata": {},
   "outputs": [
    {
     "data": {
      "text/html": [
       "<div>\n",
       "<style scoped>\n",
       "    .dataframe tbody tr th:only-of-type {\n",
       "        vertical-align: middle;\n",
       "    }\n",
       "\n",
       "    .dataframe tbody tr th {\n",
       "        vertical-align: top;\n",
       "    }\n",
       "\n",
       "    .dataframe thead th {\n",
       "        text-align: right;\n",
       "    }\n",
       "</style>\n",
       "<table border=\"1\" class=\"dataframe\">\n",
       "  <thead>\n",
       "    <tr style=\"text-align: right;\">\n",
       "      <th></th>\n",
       "      <th>Edad_Usuario</th>\n",
       "      <th>distancia</th>\n",
       "      <th>minutos_usados</th>\n",
       "      <th>velocidad</th>\n",
       "      <th>h_retiro</th>\n",
       "    </tr>\n",
       "  </thead>\n",
       "  <tbody>\n",
       "    <tr>\n",
       "      <th>Edad_Usuario</th>\n",
       "      <td>1.000000</td>\n",
       "      <td>-0.068877</td>\n",
       "      <td>-0.022726</td>\n",
       "      <td>-0.073914</td>\n",
       "      <td>-0.045066</td>\n",
       "    </tr>\n",
       "    <tr>\n",
       "      <th>distancia</th>\n",
       "      <td>-0.068877</td>\n",
       "      <td>1.000000</td>\n",
       "      <td>0.690880</td>\n",
       "      <td>0.440978</td>\n",
       "      <td>0.008893</td>\n",
       "    </tr>\n",
       "    <tr>\n",
       "      <th>minutos_usados</th>\n",
       "      <td>-0.022726</td>\n",
       "      <td>0.690880</td>\n",
       "      <td>1.000000</td>\n",
       "      <td>-0.206258</td>\n",
       "      <td>0.064814</td>\n",
       "    </tr>\n",
       "    <tr>\n",
       "      <th>velocidad</th>\n",
       "      <td>-0.073914</td>\n",
       "      <td>0.440978</td>\n",
       "      <td>-0.206258</td>\n",
       "      <td>1.000000</td>\n",
       "      <td>-0.101456</td>\n",
       "    </tr>\n",
       "    <tr>\n",
       "      <th>h_retiro</th>\n",
       "      <td>-0.045066</td>\n",
       "      <td>0.008893</td>\n",
       "      <td>0.064814</td>\n",
       "      <td>-0.101456</td>\n",
       "      <td>1.000000</td>\n",
       "    </tr>\n",
       "  </tbody>\n",
       "</table>\n",
       "</div>"
      ],
      "text/plain": [
       "                Edad_Usuario  distancia  minutos_usados  velocidad  h_retiro\n",
       "Edad_Usuario        1.000000  -0.068877       -0.022726  -0.073914 -0.045066\n",
       "distancia          -0.068877   1.000000        0.690880   0.440978  0.008893\n",
       "minutos_usados     -0.022726   0.690880        1.000000  -0.206258  0.064814\n",
       "velocidad          -0.073914   0.440978       -0.206258   1.000000 -0.101456\n",
       "h_retiro           -0.045066   0.008893        0.064814  -0.101456  1.000000"
      ]
     },
     "execution_count": 344,
     "metadata": {},
     "output_type": "execute_result"
    }
   ],
   "source": [
    "cols=[\"Edad_Usuario\",'distancia','minutos_usados','velocidad',\"h_retiro\"]\n",
    "aux[cols].corr()"
   ]
  },
  {
   "cell_type": "code",
   "execution_count": 345,
   "metadata": {},
   "outputs": [],
   "source": [
    "tad_r.columns=[\"_\".join(x) for x in tad_r.columns.ravel()]\n",
    "tad_r.columns=[\"r_\"+x for x in tad_r.columns]"
   ]
  },
  {
   "cell_type": "code",
   "execution_count": 346,
   "metadata": {},
   "outputs": [
    {
     "data": {
      "text/html": [
       "<div>\n",
       "<style scoped>\n",
       "    .dataframe tbody tr th:only-of-type {\n",
       "        vertical-align: middle;\n",
       "    }\n",
       "\n",
       "    .dataframe tbody tr th {\n",
       "        vertical-align: top;\n",
       "    }\n",
       "\n",
       "    .dataframe thead th {\n",
       "        text-align: right;\n",
       "    }\n",
       "</style>\n",
       "<table border=\"1\" class=\"dataframe\">\n",
       "  <thead>\n",
       "    <tr style=\"text-align: right;\">\n",
       "      <th></th>\n",
       "      <th>r_Ciclo_Estacion_Retiro_</th>\n",
       "      <th>r_Edad_Usuario_max</th>\n",
       "      <th>r_Edad_Usuario_var</th>\n",
       "      <th>r_Edad_Usuario_min</th>\n",
       "      <th>r_distancia_max</th>\n",
       "      <th>r_distancia_var</th>\n",
       "      <th>r_distancia_min</th>\n",
       "      <th>r_minutos_usados_max</th>\n",
       "      <th>r_minutos_usados_var</th>\n",
       "      <th>r_minutos_usados_min</th>\n",
       "      <th>r_velocidad_max</th>\n",
       "      <th>r_velocidad_var</th>\n",
       "      <th>r_velocidad_min</th>\n",
       "      <th>r_h_retiro_max</th>\n",
       "      <th>r_h_retiro_var</th>\n",
       "      <th>r_h_retiro_min</th>\n",
       "    </tr>\n",
       "  </thead>\n",
       "  <tbody>\n",
       "    <tr>\n",
       "      <th>0</th>\n",
       "      <td>1</td>\n",
       "      <td>65</td>\n",
       "      <td>98.285133</td>\n",
       "      <td>18</td>\n",
       "      <td>8.040263</td>\n",
       "      <td>0.943627</td>\n",
       "      <td>0.0</td>\n",
       "      <td>48.500000</td>\n",
       "      <td>55.947660</td>\n",
       "      <td>2.200000</td>\n",
       "      <td>17.362220</td>\n",
       "      <td>8.062036</td>\n",
       "      <td>0.0</td>\n",
       "      <td>23</td>\n",
       "      <td>21.286951</td>\n",
       "      <td>0</td>\n",
       "    </tr>\n",
       "    <tr>\n",
       "      <th>1</th>\n",
       "      <td>2</td>\n",
       "      <td>64</td>\n",
       "      <td>105.547506</td>\n",
       "      <td>18</td>\n",
       "      <td>7.983162</td>\n",
       "      <td>1.281563</td>\n",
       "      <td>0.0</td>\n",
       "      <td>47.300000</td>\n",
       "      <td>66.731514</td>\n",
       "      <td>2.283333</td>\n",
       "      <td>17.612980</td>\n",
       "      <td>9.587011</td>\n",
       "      <td>0.0</td>\n",
       "      <td>23</td>\n",
       "      <td>24.447701</td>\n",
       "      <td>0</td>\n",
       "    </tr>\n",
       "    <tr>\n",
       "      <th>2</th>\n",
       "      <td>3</td>\n",
       "      <td>65</td>\n",
       "      <td>96.173712</td>\n",
       "      <td>18</td>\n",
       "      <td>5.444791</td>\n",
       "      <td>0.880440</td>\n",
       "      <td>0.0</td>\n",
       "      <td>48.566667</td>\n",
       "      <td>72.939307</td>\n",
       "      <td>2.200000</td>\n",
       "      <td>18.319463</td>\n",
       "      <td>10.332143</td>\n",
       "      <td>0.0</td>\n",
       "      <td>23</td>\n",
       "      <td>21.964199</td>\n",
       "      <td>5</td>\n",
       "    </tr>\n",
       "    <tr>\n",
       "      <th>3</th>\n",
       "      <td>4</td>\n",
       "      <td>64</td>\n",
       "      <td>103.766268</td>\n",
       "      <td>19</td>\n",
       "      <td>6.274712</td>\n",
       "      <td>0.988586</td>\n",
       "      <td>0.0</td>\n",
       "      <td>47.500000</td>\n",
       "      <td>54.214332</td>\n",
       "      <td>3.016667</td>\n",
       "      <td>15.207719</td>\n",
       "      <td>9.352858</td>\n",
       "      <td>0.0</td>\n",
       "      <td>23</td>\n",
       "      <td>21.271765</td>\n",
       "      <td>0</td>\n",
       "    </tr>\n",
       "    <tr>\n",
       "      <th>4</th>\n",
       "      <td>5</td>\n",
       "      <td>65</td>\n",
       "      <td>97.585919</td>\n",
       "      <td>19</td>\n",
       "      <td>7.497522</td>\n",
       "      <td>1.277718</td>\n",
       "      <td>0.0</td>\n",
       "      <td>47.216667</td>\n",
       "      <td>61.538858</td>\n",
       "      <td>2.166667</td>\n",
       "      <td>17.260351</td>\n",
       "      <td>8.284668</td>\n",
       "      <td>0.0</td>\n",
       "      <td>23</td>\n",
       "      <td>20.643952</td>\n",
       "      <td>0</td>\n",
       "    </tr>\n",
       "  </tbody>\n",
       "</table>\n",
       "</div>"
      ],
      "text/plain": [
       "   r_Ciclo_Estacion_Retiro_  r_Edad_Usuario_max  r_Edad_Usuario_var  \\\n",
       "0                         1                  65           98.285133   \n",
       "1                         2                  64          105.547506   \n",
       "2                         3                  65           96.173712   \n",
       "3                         4                  64          103.766268   \n",
       "4                         5                  65           97.585919   \n",
       "\n",
       "   r_Edad_Usuario_min  r_distancia_max  r_distancia_var  r_distancia_min  \\\n",
       "0                  18         8.040263         0.943627              0.0   \n",
       "1                  18         7.983162         1.281563              0.0   \n",
       "2                  18         5.444791         0.880440              0.0   \n",
       "3                  19         6.274712         0.988586              0.0   \n",
       "4                  19         7.497522         1.277718              0.0   \n",
       "\n",
       "   r_minutos_usados_max  r_minutos_usados_var  r_minutos_usados_min  \\\n",
       "0             48.500000             55.947660              2.200000   \n",
       "1             47.300000             66.731514              2.283333   \n",
       "2             48.566667             72.939307              2.200000   \n",
       "3             47.500000             54.214332              3.016667   \n",
       "4             47.216667             61.538858              2.166667   \n",
       "\n",
       "   r_velocidad_max  r_velocidad_var  r_velocidad_min  r_h_retiro_max  \\\n",
       "0        17.362220         8.062036              0.0              23   \n",
       "1        17.612980         9.587011              0.0              23   \n",
       "2        18.319463        10.332143              0.0              23   \n",
       "3        15.207719         9.352858              0.0              23   \n",
       "4        17.260351         8.284668              0.0              23   \n",
       "\n",
       "   r_h_retiro_var  r_h_retiro_min  \n",
       "0       21.286951               0  \n",
       "1       24.447701               0  \n",
       "2       21.964199               5  \n",
       "3       21.271765               0  \n",
       "4       20.643952               0  "
      ]
     },
     "execution_count": 346,
     "metadata": {},
     "output_type": "execute_result"
    }
   ],
   "source": [
    "tad_r.head()"
   ]
  },
  {
   "cell_type": "code",
   "execution_count": 427,
   "metadata": {},
   "outputs": [],
   "source": [
    "cols=[\"Ciclo_Estacion_Arribo\",'distancia','minutos_usados','velocidad','h_arribo']\n",
    "tad_a = aux[cols].groupby([\"Ciclo_Estacion_Arribo\"]).agg([\"var\",\"mean\",\"median\"]).reset_index()\n",
    "#\"min\",\"max\",\"mean\",\"var\",\"sum\",\"median\"\n",
    "\n",
    "#\"var\",\"mean\",\"median\""
   ]
  },
  {
   "cell_type": "code",
   "execution_count": 428,
   "metadata": {},
   "outputs": [],
   "source": [
    "tad_a.columns=[\"_\".join(x) for x in tad_a.columns.ravel()]\n",
    "tad_a.columns=[\"a_\"+x for x in tad_a.columns]"
   ]
  },
  {
   "cell_type": "code",
   "execution_count": 429,
   "metadata": {},
   "outputs": [
    {
     "data": {
      "text/html": [
       "<div>\n",
       "<style scoped>\n",
       "    .dataframe tbody tr th:only-of-type {\n",
       "        vertical-align: middle;\n",
       "    }\n",
       "\n",
       "    .dataframe tbody tr th {\n",
       "        vertical-align: top;\n",
       "    }\n",
       "\n",
       "    .dataframe thead th {\n",
       "        text-align: right;\n",
       "    }\n",
       "</style>\n",
       "<table border=\"1\" class=\"dataframe\">\n",
       "  <thead>\n",
       "    <tr style=\"text-align: right;\">\n",
       "      <th></th>\n",
       "      <th>a_Ciclo_Estacion_Arribo_</th>\n",
       "      <th>a_distancia_var</th>\n",
       "      <th>a_distancia_mean</th>\n",
       "      <th>a_distancia_median</th>\n",
       "      <th>a_minutos_usados_var</th>\n",
       "      <th>a_minutos_usados_mean</th>\n",
       "      <th>a_minutos_usados_median</th>\n",
       "      <th>a_velocidad_var</th>\n",
       "      <th>a_velocidad_mean</th>\n",
       "      <th>a_velocidad_median</th>\n",
       "      <th>a_h_arribo_var</th>\n",
       "      <th>a_h_arribo_mean</th>\n",
       "      <th>a_h_arribo_median</th>\n",
       "    </tr>\n",
       "  </thead>\n",
       "  <tbody>\n",
       "    <tr>\n",
       "      <th>0</th>\n",
       "      <td>1</td>\n",
       "      <td>1.128729</td>\n",
       "      <td>1.525593</td>\n",
       "      <td>1.115472</td>\n",
       "      <td>55.630052</td>\n",
       "      <td>12.239254</td>\n",
       "      <td>10.066667</td>\n",
       "      <td>6.892643</td>\n",
       "      <td>7.830314</td>\n",
       "      <td>7.989748</td>\n",
       "      <td>21.925829</td>\n",
       "      <td>14.338321</td>\n",
       "      <td>15.0</td>\n",
       "    </tr>\n",
       "    <tr>\n",
       "      <th>1</th>\n",
       "      <td>2</td>\n",
       "      <td>1.333681</td>\n",
       "      <td>1.514350</td>\n",
       "      <td>1.125163</td>\n",
       "      <td>64.805139</td>\n",
       "      <td>12.905223</td>\n",
       "      <td>10.441667</td>\n",
       "      <td>8.045990</td>\n",
       "      <td>7.431823</td>\n",
       "      <td>7.599974</td>\n",
       "      <td>25.278020</td>\n",
       "      <td>13.829493</td>\n",
       "      <td>14.0</td>\n",
       "    </tr>\n",
       "    <tr>\n",
       "      <th>2</th>\n",
       "      <td>3</td>\n",
       "      <td>0.878218</td>\n",
       "      <td>1.429620</td>\n",
       "      <td>1.229706</td>\n",
       "      <td>61.609925</td>\n",
       "      <td>11.563296</td>\n",
       "      <td>9.500000</td>\n",
       "      <td>10.291480</td>\n",
       "      <td>8.330778</td>\n",
       "      <td>8.624914</td>\n",
       "      <td>20.445359</td>\n",
       "      <td>12.762523</td>\n",
       "      <td>12.0</td>\n",
       "    </tr>\n",
       "    <tr>\n",
       "      <th>3</th>\n",
       "      <td>4</td>\n",
       "      <td>1.064961</td>\n",
       "      <td>1.521684</td>\n",
       "      <td>1.262552</td>\n",
       "      <td>66.241454</td>\n",
       "      <td>12.513553</td>\n",
       "      <td>10.466667</td>\n",
       "      <td>9.699892</td>\n",
       "      <td>8.013150</td>\n",
       "      <td>8.420486</td>\n",
       "      <td>21.607643</td>\n",
       "      <td>13.777070</td>\n",
       "      <td>14.0</td>\n",
       "    </tr>\n",
       "    <tr>\n",
       "      <th>4</th>\n",
       "      <td>5</td>\n",
       "      <td>1.427781</td>\n",
       "      <td>1.561395</td>\n",
       "      <td>1.142245</td>\n",
       "      <td>69.946837</td>\n",
       "      <td>12.629316</td>\n",
       "      <td>10.591667</td>\n",
       "      <td>8.500549</td>\n",
       "      <td>7.804808</td>\n",
       "      <td>7.959626</td>\n",
       "      <td>23.637923</td>\n",
       "      <td>13.093625</td>\n",
       "      <td>13.0</td>\n",
       "    </tr>\n",
       "  </tbody>\n",
       "</table>\n",
       "</div>"
      ],
      "text/plain": [
       "   a_Ciclo_Estacion_Arribo_  a_distancia_var  a_distancia_mean  \\\n",
       "0                         1         1.128729          1.525593   \n",
       "1                         2         1.333681          1.514350   \n",
       "2                         3         0.878218          1.429620   \n",
       "3                         4         1.064961          1.521684   \n",
       "4                         5         1.427781          1.561395   \n",
       "\n",
       "   a_distancia_median  a_minutos_usados_var  a_minutos_usados_mean  \\\n",
       "0            1.115472             55.630052              12.239254   \n",
       "1            1.125163             64.805139              12.905223   \n",
       "2            1.229706             61.609925              11.563296   \n",
       "3            1.262552             66.241454              12.513553   \n",
       "4            1.142245             69.946837              12.629316   \n",
       "\n",
       "   a_minutos_usados_median  a_velocidad_var  a_velocidad_mean  \\\n",
       "0                10.066667         6.892643          7.830314   \n",
       "1                10.441667         8.045990          7.431823   \n",
       "2                 9.500000        10.291480          8.330778   \n",
       "3                10.466667         9.699892          8.013150   \n",
       "4                10.591667         8.500549          7.804808   \n",
       "\n",
       "   a_velocidad_median  a_h_arribo_var  a_h_arribo_mean  a_h_arribo_median  \n",
       "0            7.989748       21.925829        14.338321               15.0  \n",
       "1            7.599974       25.278020        13.829493               14.0  \n",
       "2            8.624914       20.445359        12.762523               12.0  \n",
       "3            8.420486       21.607643        13.777070               14.0  \n",
       "4            7.959626       23.637923        13.093625               13.0  "
      ]
     },
     "execution_count": 429,
     "metadata": {},
     "output_type": "execute_result"
    }
   ],
   "source": [
    "tad_a.head()"
   ]
  },
  {
   "cell_type": "code",
   "execution_count": 430,
   "metadata": {},
   "outputs": [],
   "source": [
    "tad=pd.merge(tad_a,tad_r,left_on=\"a_Ciclo_Estacion_Arribo_\",right_on='r_Ciclo_Estacion_Retiro_',how=\"inner\").reset_index(drop=True)"
   ]
  },
  {
   "cell_type": "code",
   "execution_count": 431,
   "metadata": {},
   "outputs": [
    {
     "data": {
      "text/html": [
       "<div>\n",
       "<style scoped>\n",
       "    .dataframe tbody tr th:only-of-type {\n",
       "        vertical-align: middle;\n",
       "    }\n",
       "\n",
       "    .dataframe tbody tr th {\n",
       "        vertical-align: top;\n",
       "    }\n",
       "\n",
       "    .dataframe thead th {\n",
       "        text-align: right;\n",
       "    }\n",
       "</style>\n",
       "<table border=\"1\" class=\"dataframe\">\n",
       "  <thead>\n",
       "    <tr style=\"text-align: right;\">\n",
       "      <th></th>\n",
       "      <th>a_Ciclo_Estacion_Arribo_</th>\n",
       "      <th>a_distancia_var</th>\n",
       "      <th>a_distancia_mean</th>\n",
       "      <th>a_distancia_median</th>\n",
       "      <th>a_minutos_usados_var</th>\n",
       "      <th>a_minutos_usados_mean</th>\n",
       "      <th>a_minutos_usados_median</th>\n",
       "      <th>a_velocidad_var</th>\n",
       "      <th>a_velocidad_mean</th>\n",
       "      <th>a_velocidad_median</th>\n",
       "      <th>...</th>\n",
       "      <th>r_distancia_min</th>\n",
       "      <th>r_minutos_usados_max</th>\n",
       "      <th>r_minutos_usados_var</th>\n",
       "      <th>r_minutos_usados_min</th>\n",
       "      <th>r_velocidad_max</th>\n",
       "      <th>r_velocidad_var</th>\n",
       "      <th>r_velocidad_min</th>\n",
       "      <th>r_h_retiro_max</th>\n",
       "      <th>r_h_retiro_var</th>\n",
       "      <th>r_h_retiro_min</th>\n",
       "    </tr>\n",
       "  </thead>\n",
       "  <tbody>\n",
       "    <tr>\n",
       "      <th>0</th>\n",
       "      <td>1</td>\n",
       "      <td>1.128729</td>\n",
       "      <td>1.525593</td>\n",
       "      <td>1.115472</td>\n",
       "      <td>55.630052</td>\n",
       "      <td>12.239254</td>\n",
       "      <td>10.066667</td>\n",
       "      <td>6.892643</td>\n",
       "      <td>7.830314</td>\n",
       "      <td>7.989748</td>\n",
       "      <td>...</td>\n",
       "      <td>0.0</td>\n",
       "      <td>48.500000</td>\n",
       "      <td>55.947660</td>\n",
       "      <td>2.200000</td>\n",
       "      <td>17.362220</td>\n",
       "      <td>8.062036</td>\n",
       "      <td>0.0</td>\n",
       "      <td>23</td>\n",
       "      <td>21.286951</td>\n",
       "      <td>0</td>\n",
       "    </tr>\n",
       "    <tr>\n",
       "      <th>1</th>\n",
       "      <td>2</td>\n",
       "      <td>1.333681</td>\n",
       "      <td>1.514350</td>\n",
       "      <td>1.125163</td>\n",
       "      <td>64.805139</td>\n",
       "      <td>12.905223</td>\n",
       "      <td>10.441667</td>\n",
       "      <td>8.045990</td>\n",
       "      <td>7.431823</td>\n",
       "      <td>7.599974</td>\n",
       "      <td>...</td>\n",
       "      <td>0.0</td>\n",
       "      <td>47.300000</td>\n",
       "      <td>66.731514</td>\n",
       "      <td>2.283333</td>\n",
       "      <td>17.612980</td>\n",
       "      <td>9.587011</td>\n",
       "      <td>0.0</td>\n",
       "      <td>23</td>\n",
       "      <td>24.447701</td>\n",
       "      <td>0</td>\n",
       "    </tr>\n",
       "    <tr>\n",
       "      <th>2</th>\n",
       "      <td>3</td>\n",
       "      <td>0.878218</td>\n",
       "      <td>1.429620</td>\n",
       "      <td>1.229706</td>\n",
       "      <td>61.609925</td>\n",
       "      <td>11.563296</td>\n",
       "      <td>9.500000</td>\n",
       "      <td>10.291480</td>\n",
       "      <td>8.330778</td>\n",
       "      <td>8.624914</td>\n",
       "      <td>...</td>\n",
       "      <td>0.0</td>\n",
       "      <td>48.566667</td>\n",
       "      <td>72.939307</td>\n",
       "      <td>2.200000</td>\n",
       "      <td>18.319463</td>\n",
       "      <td>10.332143</td>\n",
       "      <td>0.0</td>\n",
       "      <td>23</td>\n",
       "      <td>21.964199</td>\n",
       "      <td>5</td>\n",
       "    </tr>\n",
       "    <tr>\n",
       "      <th>3</th>\n",
       "      <td>4</td>\n",
       "      <td>1.064961</td>\n",
       "      <td>1.521684</td>\n",
       "      <td>1.262552</td>\n",
       "      <td>66.241454</td>\n",
       "      <td>12.513553</td>\n",
       "      <td>10.466667</td>\n",
       "      <td>9.699892</td>\n",
       "      <td>8.013150</td>\n",
       "      <td>8.420486</td>\n",
       "      <td>...</td>\n",
       "      <td>0.0</td>\n",
       "      <td>47.500000</td>\n",
       "      <td>54.214332</td>\n",
       "      <td>3.016667</td>\n",
       "      <td>15.207719</td>\n",
       "      <td>9.352858</td>\n",
       "      <td>0.0</td>\n",
       "      <td>23</td>\n",
       "      <td>21.271765</td>\n",
       "      <td>0</td>\n",
       "    </tr>\n",
       "    <tr>\n",
       "      <th>4</th>\n",
       "      <td>5</td>\n",
       "      <td>1.427781</td>\n",
       "      <td>1.561395</td>\n",
       "      <td>1.142245</td>\n",
       "      <td>69.946837</td>\n",
       "      <td>12.629316</td>\n",
       "      <td>10.591667</td>\n",
       "      <td>8.500549</td>\n",
       "      <td>7.804808</td>\n",
       "      <td>7.959626</td>\n",
       "      <td>...</td>\n",
       "      <td>0.0</td>\n",
       "      <td>47.216667</td>\n",
       "      <td>61.538858</td>\n",
       "      <td>2.166667</td>\n",
       "      <td>17.260351</td>\n",
       "      <td>8.284668</td>\n",
       "      <td>0.0</td>\n",
       "      <td>23</td>\n",
       "      <td>20.643952</td>\n",
       "      <td>0</td>\n",
       "    </tr>\n",
       "  </tbody>\n",
       "</table>\n",
       "<p>5 rows × 29 columns</p>\n",
       "</div>"
      ],
      "text/plain": [
       "   a_Ciclo_Estacion_Arribo_  a_distancia_var  a_distancia_mean  \\\n",
       "0                         1         1.128729          1.525593   \n",
       "1                         2         1.333681          1.514350   \n",
       "2                         3         0.878218          1.429620   \n",
       "3                         4         1.064961          1.521684   \n",
       "4                         5         1.427781          1.561395   \n",
       "\n",
       "   a_distancia_median  a_minutos_usados_var  a_minutos_usados_mean  \\\n",
       "0            1.115472             55.630052              12.239254   \n",
       "1            1.125163             64.805139              12.905223   \n",
       "2            1.229706             61.609925              11.563296   \n",
       "3            1.262552             66.241454              12.513553   \n",
       "4            1.142245             69.946837              12.629316   \n",
       "\n",
       "   a_minutos_usados_median  a_velocidad_var  a_velocidad_mean  \\\n",
       "0                10.066667         6.892643          7.830314   \n",
       "1                10.441667         8.045990          7.431823   \n",
       "2                 9.500000        10.291480          8.330778   \n",
       "3                10.466667         9.699892          8.013150   \n",
       "4                10.591667         8.500549          7.804808   \n",
       "\n",
       "   a_velocidad_median  ...  r_distancia_min  r_minutos_usados_max  \\\n",
       "0            7.989748  ...              0.0             48.500000   \n",
       "1            7.599974  ...              0.0             47.300000   \n",
       "2            8.624914  ...              0.0             48.566667   \n",
       "3            8.420486  ...              0.0             47.500000   \n",
       "4            7.959626  ...              0.0             47.216667   \n",
       "\n",
       "   r_minutos_usados_var  r_minutos_usados_min  r_velocidad_max  \\\n",
       "0             55.947660              2.200000        17.362220   \n",
       "1             66.731514              2.283333        17.612980   \n",
       "2             72.939307              2.200000        18.319463   \n",
       "3             54.214332              3.016667        15.207719   \n",
       "4             61.538858              2.166667        17.260351   \n",
       "\n",
       "   r_velocidad_var  r_velocidad_min  r_h_retiro_max  r_h_retiro_var  \\\n",
       "0         8.062036              0.0              23       21.286951   \n",
       "1         9.587011              0.0              23       24.447701   \n",
       "2        10.332143              0.0              23       21.964199   \n",
       "3         9.352858              0.0              23       21.271765   \n",
       "4         8.284668              0.0              23       20.643952   \n",
       "\n",
       "   r_h_retiro_min  \n",
       "0               0  \n",
       "1               0  \n",
       "2               5  \n",
       "3               0  \n",
       "4               0  \n",
       "\n",
       "[5 rows x 29 columns]"
      ]
     },
     "execution_count": 431,
     "metadata": {},
     "output_type": "execute_result"
    }
   ],
   "source": [
    "tad.head()"
   ]
  },
  {
   "cell_type": "code",
   "execution_count": 432,
   "metadata": {},
   "outputs": [],
   "source": [
    "cols=['Ciclo_Estacion_Arribo','a_Tipo de estación','a_county','a_postcode']\n",
    "tad=pd.merge(tad_a,df[cols],left_on=\"a_Ciclo_Estacion_Arribo_\",right_on='Ciclo_Estacion_Arribo',how=\"inner\").reset_index(drop=True)"
   ]
  },
  {
   "cell_type": "code",
   "execution_count": 433,
   "metadata": {},
   "outputs": [],
   "source": [
    "tad=tad.drop_duplicates().reset_index(drop=True)"
   ]
  },
  {
   "cell_type": "code",
   "execution_count": 434,
   "metadata": {},
   "outputs": [
    {
     "data": {
      "text/plain": [
       "(479, 17)"
      ]
     },
     "execution_count": 434,
     "metadata": {},
     "output_type": "execute_result"
    }
   ],
   "source": [
    "tad.shape"
   ]
  },
  {
   "cell_type": "code",
   "execution_count": 435,
   "metadata": {},
   "outputs": [],
   "source": [
    "from sklearn.cluster import AgglomerativeClustering\n",
    "from sklearn.preprocessing import MinMaxScaler\n",
    "from sklearn.preprocessing import StandardScaler\n",
    "from sklearn.decomposition import PCA\n",
    "from sklearn.manifold import MDS,TSNE\n",
    "import scipy.cluster.hierarchy as sch"
   ]
  },
  {
   "cell_type": "code",
   "execution_count": 436,
   "metadata": {},
   "outputs": [],
   "source": [
    "cols=[\"Ciclo_Estacion_Arribo\",'a_Tipo de estación','a_county','a_postcode','a_Ciclo_Estacion_Arribo_','r_Ciclo_Estacion_Retiro_']\n",
    "ls_clus=[x for x in tad.columns if x not in cols]"
   ]
  },
  {
   "cell_type": "code",
   "execution_count": 437,
   "metadata": {},
   "outputs": [],
   "source": [
    "X=tad[ls_clus]"
   ]
  },
  {
   "cell_type": "code",
   "execution_count": 438,
   "metadata": {},
   "outputs": [
    {
     "data": {
      "text/html": [
       "<div>\n",
       "<style scoped>\n",
       "    .dataframe tbody tr th:only-of-type {\n",
       "        vertical-align: middle;\n",
       "    }\n",
       "\n",
       "    .dataframe tbody tr th {\n",
       "        vertical-align: top;\n",
       "    }\n",
       "\n",
       "    .dataframe thead th {\n",
       "        text-align: right;\n",
       "    }\n",
       "</style>\n",
       "<table border=\"1\" class=\"dataframe\">\n",
       "  <thead>\n",
       "    <tr style=\"text-align: right;\">\n",
       "      <th></th>\n",
       "      <th>a_distancia_var</th>\n",
       "      <th>a_distancia_mean</th>\n",
       "      <th>a_distancia_median</th>\n",
       "      <th>a_minutos_usados_var</th>\n",
       "      <th>a_minutos_usados_mean</th>\n",
       "      <th>a_minutos_usados_median</th>\n",
       "      <th>a_velocidad_var</th>\n",
       "      <th>a_velocidad_mean</th>\n",
       "      <th>a_velocidad_median</th>\n",
       "      <th>a_h_arribo_var</th>\n",
       "      <th>a_h_arribo_mean</th>\n",
       "      <th>a_h_arribo_median</th>\n",
       "    </tr>\n",
       "  </thead>\n",
       "  <tbody>\n",
       "    <tr>\n",
       "      <th>0</th>\n",
       "      <td>1.128729</td>\n",
       "      <td>1.525593</td>\n",
       "      <td>1.115472</td>\n",
       "      <td>55.630052</td>\n",
       "      <td>12.239254</td>\n",
       "      <td>10.066667</td>\n",
       "      <td>6.892643</td>\n",
       "      <td>7.830314</td>\n",
       "      <td>7.989748</td>\n",
       "      <td>21.925829</td>\n",
       "      <td>14.338321</td>\n",
       "      <td>15.0</td>\n",
       "    </tr>\n",
       "    <tr>\n",
       "      <th>1</th>\n",
       "      <td>1.333681</td>\n",
       "      <td>1.514350</td>\n",
       "      <td>1.125163</td>\n",
       "      <td>64.805139</td>\n",
       "      <td>12.905223</td>\n",
       "      <td>10.441667</td>\n",
       "      <td>8.045990</td>\n",
       "      <td>7.431823</td>\n",
       "      <td>7.599974</td>\n",
       "      <td>25.278020</td>\n",
       "      <td>13.829493</td>\n",
       "      <td>14.0</td>\n",
       "    </tr>\n",
       "    <tr>\n",
       "      <th>2</th>\n",
       "      <td>0.878218</td>\n",
       "      <td>1.429620</td>\n",
       "      <td>1.229706</td>\n",
       "      <td>61.609925</td>\n",
       "      <td>11.563296</td>\n",
       "      <td>9.500000</td>\n",
       "      <td>10.291480</td>\n",
       "      <td>8.330778</td>\n",
       "      <td>8.624914</td>\n",
       "      <td>20.445359</td>\n",
       "      <td>12.762523</td>\n",
       "      <td>12.0</td>\n",
       "    </tr>\n",
       "    <tr>\n",
       "      <th>3</th>\n",
       "      <td>1.064961</td>\n",
       "      <td>1.521684</td>\n",
       "      <td>1.262552</td>\n",
       "      <td>66.241454</td>\n",
       "      <td>12.513553</td>\n",
       "      <td>10.466667</td>\n",
       "      <td>9.699892</td>\n",
       "      <td>8.013150</td>\n",
       "      <td>8.420486</td>\n",
       "      <td>21.607643</td>\n",
       "      <td>13.777070</td>\n",
       "      <td>14.0</td>\n",
       "    </tr>\n",
       "    <tr>\n",
       "      <th>4</th>\n",
       "      <td>1.427781</td>\n",
       "      <td>1.561395</td>\n",
       "      <td>1.142245</td>\n",
       "      <td>69.946837</td>\n",
       "      <td>12.629316</td>\n",
       "      <td>10.591667</td>\n",
       "      <td>8.500549</td>\n",
       "      <td>7.804808</td>\n",
       "      <td>7.959626</td>\n",
       "      <td>23.637923</td>\n",
       "      <td>13.093625</td>\n",
       "      <td>13.0</td>\n",
       "    </tr>\n",
       "  </tbody>\n",
       "</table>\n",
       "</div>"
      ],
      "text/plain": [
       "   a_distancia_var  a_distancia_mean  a_distancia_median  \\\n",
       "0         1.128729          1.525593            1.115472   \n",
       "1         1.333681          1.514350            1.125163   \n",
       "2         0.878218          1.429620            1.229706   \n",
       "3         1.064961          1.521684            1.262552   \n",
       "4         1.427781          1.561395            1.142245   \n",
       "\n",
       "   a_minutos_usados_var  a_minutos_usados_mean  a_minutos_usados_median  \\\n",
       "0             55.630052              12.239254                10.066667   \n",
       "1             64.805139              12.905223                10.441667   \n",
       "2             61.609925              11.563296                 9.500000   \n",
       "3             66.241454              12.513553                10.466667   \n",
       "4             69.946837              12.629316                10.591667   \n",
       "\n",
       "   a_velocidad_var  a_velocidad_mean  a_velocidad_median  a_h_arribo_var  \\\n",
       "0         6.892643          7.830314            7.989748       21.925829   \n",
       "1         8.045990          7.431823            7.599974       25.278020   \n",
       "2        10.291480          8.330778            8.624914       20.445359   \n",
       "3         9.699892          8.013150            8.420486       21.607643   \n",
       "4         8.500549          7.804808            7.959626       23.637923   \n",
       "\n",
       "   a_h_arribo_mean  a_h_arribo_median  \n",
       "0        14.338321               15.0  \n",
       "1        13.829493               14.0  \n",
       "2        12.762523               12.0  \n",
       "3        13.777070               14.0  \n",
       "4        13.093625               13.0  "
      ]
     },
     "execution_count": 438,
     "metadata": {},
     "output_type": "execute_result"
    }
   ],
   "source": [
    "X.head()"
   ]
  },
  {
   "cell_type": "code",
   "execution_count": 439,
   "metadata": {},
   "outputs": [
    {
     "data": {
      "text/plain": [
       "Index(['a_distancia_var', 'a_distancia_mean', 'a_distancia_median',\n",
       "       'a_minutos_usados_var', 'a_minutos_usados_mean',\n",
       "       'a_minutos_usados_median', 'a_velocidad_var', 'a_velocidad_mean',\n",
       "       'a_velocidad_median', 'a_h_arribo_var', 'a_h_arribo_mean',\n",
       "       'a_h_arribo_median'],\n",
       "      dtype='object')"
      ]
     },
     "execution_count": 439,
     "metadata": {},
     "output_type": "execute_result"
    }
   ],
   "source": [
    "X.columns"
   ]
  },
  {
   "cell_type": "code",
   "execution_count": 440,
   "metadata": {},
   "outputs": [
    {
     "data": {
      "text/plain": [
       "<matplotlib.axes._subplots.AxesSubplot at 0x7f5c97f67eb0>"
      ]
     },
     "execution_count": 440,
     "metadata": {},
     "output_type": "execute_result"
    },
    {
     "data": {
      "image/png": "[encoded data removed]",
      "text/plain": [
       "<Figure size 1152x648 with 2 Axes>"
      ]
     },
     "metadata": {},
     "output_type": "display_data"
    }
   ],
   "source": [
    "# Draw a heatmap with the numeric values in each cell\n",
    "f, ax = plt.subplots(figsize=(16, 9))\n",
    "sns.heatmap(X.corr(), linewidths=.5, ax=ax)"
   ]
  },
  {
   "cell_type": "code",
   "execution_count": 441,
   "metadata": {},
   "outputs": [],
   "source": [
    "\n",
    "scaler = StandardScaler()\n",
    "sc = MinMaxScaler()\n",
    "#Xs = pd.DataFrame(sc.fit_transform(X),columns=X.columns)\n",
    "Xs = pd.DataFrame(scaler.fit_transform(X),columns=X.columns)\n",
    "pca = PCA(n_components=2)\n",
    "mds = MDS(n_components=2,n_jobs=-1)\n",
    "tsne = TSNE()"
   ]
  },
  {
   "cell_type": "code",
   "execution_count": 442,
   "metadata": {},
   "outputs": [],
   "source": [
    "Xp = pd.DataFrame(pca.fit_transform(Xs),columns=['p1','p2'])\n",
    "Xm  = pd.DataFrame(mds.fit_transform(tad_a),columns=['d1','d2'])\n",
    "Xt  = pd.DataFrame(tsne.fit_transform(tad_a),columns=['d1','d2'])"
   ]
  },
  {
   "cell_type": "code",
   "execution_count": 443,
   "metadata": {},
   "outputs": [],
   "source": [
    "col='a_county'"
   ]
  },
  {
   "cell_type": "code",
   "execution_count": 444,
   "metadata": {},
   "outputs": [],
   "source": [
    "Xt[col] = Xp[col] = Xm[col] = tad[col] "
   ]
  },
  {
   "cell_type": "code",
   "execution_count": 445,
   "metadata": {},
   "outputs": [
    {
     "data": {
      "text/plain": [
       "array([0.43943691, 0.63425999])"
      ]
     },
     "execution_count": 445,
     "metadata": {},
     "output_type": "execute_result"
    }
   ],
   "source": [
    "pca.explained_variance_ratio_.cumsum()"
   ]
  },
  {
   "cell_type": "code",
   "execution_count": 446,
   "metadata": {},
   "outputs": [
    {
     "data": {
      "text/plain": [
       "<seaborn.axisgrid.FacetGrid at 0x7f5c97e32cd0>"
      ]
     },
     "execution_count": 446,
     "metadata": {},
     "output_type": "execute_result"
    },
    {
     "data": {
      "image/png": "[encoded data removed]",
      "text/plain": [
       "<Figure size 360x360 with 1 Axes>"
      ]
     },
     "metadata": {},
     "output_type": "display_data"
    },
    {
     "data": {
      "image/png": "[encoded data removed]",
      "text/plain": [
       "<Figure size 360x360 with 1 Axes>"
      ]
     },
     "metadata": {},
     "output_type": "display_data"
    },
    {
     "data": {
      "image/png": "[encoded data removed]",
      "text/plain": [
       "<Figure size 360x360 with 1 Axes>"
      ]
     },
     "metadata": {},
     "output_type": "display_data"
    }
   ],
   "source": [
    "sns.lmplot(data=Xp.sample(frac=.4),x='p1',y='p2',fit_reg=False)\n",
    "sns.lmplot(data=Xm.sample(frac=.4),x='d1',y='d2',fit_reg=False)\n",
    "sns.lmplot(data=Xt.sample(frac=.4),x='d1',y='d2',fit_reg=False)"
   ]
  },
  {
   "cell_type": "code",
   "execution_count": 447,
   "metadata": {},
   "outputs": [
    {
     "data": {
      "image/png": "[encoded data removed]",
      "text/plain": [
       "<Figure size 432x288 with 1 Axes>"
      ]
     },
     "metadata": {},
     "output_type": "display_data"
    }
   ],
   "source": [
    "dendrogram = sch.dendrogram(sch.linkage(Xs.sample(frac=.05), method = 'average'))\n",
    "plt.title('Dendrogram')\n",
    "plt.xlabel('Customers')\n",
    "plt.ylabel('Euclidean distance')\n",
    "plt.show()"
   ]
  },
  {
   "cell_type": "code",
   "execution_count": 448,
   "metadata": {},
   "outputs": [
    {
     "data": {
      "image/png": "[encoded data removed]",
      "text/plain": [
       "<Figure size 432x288 with 1 Axes>"
      ]
     },
     "metadata": {},
     "output_type": "display_data"
    }
   ],
   "source": [
    "dendrogram = sch.dendrogram(sch.linkage(Xs.sample(frac=.05), method = 'centroid'))\n",
    "plt.title('Dendrogram')\n",
    "plt.xlabel('Customers')\n",
    "plt.ylabel('Euclidean distance')\n",
    "plt.show()"
   ]
  },
  {
   "cell_type": "code",
   "execution_count": 449,
   "metadata": {},
   "outputs": [
    {
     "data": {
      "image/png": "[encoded data removed]",
      "text/plain": [
       "<Figure size 432x288 with 1 Axes>"
      ]
     },
     "metadata": {},
     "output_type": "display_data"
    }
   ],
   "source": [
    "dendrogram = sch.dendrogram(sch.linkage(Xs.sample(frac=.05), method = 'ward'))\n",
    "plt.title('Dendrogram')\n",
    "plt.xlabel('Customers')\n",
    "plt.ylabel('Euclidean distance')\n",
    "plt.show()"
   ]
  },
  {
   "cell_type": "code",
   "execution_count": null,
   "metadata": {},
   "outputs": [],
   "source": []
  },
  {
   "cell_type": "code",
   "execution_count": 450,
   "metadata": {},
   "outputs": [
    {
     "data": {
      "text/html": [
       "<div>\n",
       "<style scoped>\n",
       "    .dataframe tbody tr th:only-of-type {\n",
       "        vertical-align: middle;\n",
       "    }\n",
       "\n",
       "    .dataframe tbody tr th {\n",
       "        vertical-align: top;\n",
       "    }\n",
       "\n",
       "    .dataframe thead th {\n",
       "        text-align: right;\n",
       "    }\n",
       "</style>\n",
       "<table border=\"1\" class=\"dataframe\">\n",
       "  <thead>\n",
       "    <tr style=\"text-align: right;\">\n",
       "      <th></th>\n",
       "      <th>a_Ciclo_Estacion_Arribo_</th>\n",
       "      <th>a_distancia_var</th>\n",
       "      <th>a_distancia_mean</th>\n",
       "      <th>a_distancia_median</th>\n",
       "      <th>a_minutos_usados_var</th>\n",
       "      <th>a_minutos_usados_mean</th>\n",
       "      <th>a_minutos_usados_median</th>\n",
       "      <th>a_velocidad_var</th>\n",
       "      <th>a_velocidad_mean</th>\n",
       "      <th>a_velocidad_median</th>\n",
       "      <th>a_h_arribo_var</th>\n",
       "      <th>a_h_arribo_mean</th>\n",
       "      <th>a_h_arribo_median</th>\n",
       "      <th>Ciclo_Estacion_Arribo</th>\n",
       "      <th>a_Tipo de estación</th>\n",
       "      <th>a_county</th>\n",
       "      <th>a_postcode</th>\n",
       "    </tr>\n",
       "  </thead>\n",
       "  <tbody>\n",
       "    <tr>\n",
       "      <th>5</th>\n",
       "      <td>6</td>\n",
       "      <td>1.464562</td>\n",
       "      <td>1.638639</td>\n",
       "      <td>1.290205</td>\n",
       "      <td>72.756853</td>\n",
       "      <td>13.601706</td>\n",
       "      <td>11.716667</td>\n",
       "      <td>9.056689</td>\n",
       "      <td>7.637509</td>\n",
       "      <td>8.028420</td>\n",
       "      <td>23.856441</td>\n",
       "      <td>13.733221</td>\n",
       "      <td>14.0</td>\n",
       "      <td>6</td>\n",
       "      <td>BIKE</td>\n",
       "      <td>Cuauhtémoc</td>\n",
       "      <td>06500</td>\n",
       "    </tr>\n",
       "    <tr>\n",
       "      <th>22</th>\n",
       "      <td>23</td>\n",
       "      <td>1.304908</td>\n",
       "      <td>1.813213</td>\n",
       "      <td>1.594327</td>\n",
       "      <td>55.747970</td>\n",
       "      <td>13.302682</td>\n",
       "      <td>12.050000</td>\n",
       "      <td>10.791291</td>\n",
       "      <td>8.472594</td>\n",
       "      <td>8.894222</td>\n",
       "      <td>18.286458</td>\n",
       "      <td>11.405917</td>\n",
       "      <td>9.0</td>\n",
       "      <td>23</td>\n",
       "      <td>BIKE</td>\n",
       "      <td>Cuauhtémoc</td>\n",
       "      <td>06500</td>\n",
       "    </tr>\n",
       "    <tr>\n",
       "      <th>11</th>\n",
       "      <td>12</td>\n",
       "      <td>1.119614</td>\n",
       "      <td>1.479051</td>\n",
       "      <td>1.258110</td>\n",
       "      <td>53.715012</td>\n",
       "      <td>11.936774</td>\n",
       "      <td>9.858333</td>\n",
       "      <td>9.259274</td>\n",
       "      <td>7.869834</td>\n",
       "      <td>7.939813</td>\n",
       "      <td>19.636924</td>\n",
       "      <td>13.373853</td>\n",
       "      <td>14.0</td>\n",
       "      <td>12</td>\n",
       "      <td>BIKE</td>\n",
       "      <td>Cuauhtémoc</td>\n",
       "      <td>06500</td>\n",
       "    </tr>\n",
       "    <tr>\n",
       "      <th>23</th>\n",
       "      <td>24</td>\n",
       "      <td>1.388607</td>\n",
       "      <td>1.767427</td>\n",
       "      <td>1.522425</td>\n",
       "      <td>65.593555</td>\n",
       "      <td>13.320958</td>\n",
       "      <td>11.816667</td>\n",
       "      <td>9.230605</td>\n",
       "      <td>8.271336</td>\n",
       "      <td>8.336528</td>\n",
       "      <td>21.729778</td>\n",
       "      <td>12.643094</td>\n",
       "      <td>12.0</td>\n",
       "      <td>24</td>\n",
       "      <td>BIKE,TPV</td>\n",
       "      <td>Cuauhtémoc</td>\n",
       "      <td>06500</td>\n",
       "    </tr>\n",
       "    <tr>\n",
       "      <th>22</th>\n",
       "      <td>23</td>\n",
       "      <td>1.304908</td>\n",
       "      <td>1.813213</td>\n",
       "      <td>1.594327</td>\n",
       "      <td>55.747970</td>\n",
       "      <td>13.302682</td>\n",
       "      <td>12.050000</td>\n",
       "      <td>10.791291</td>\n",
       "      <td>8.472594</td>\n",
       "      <td>8.894222</td>\n",
       "      <td>18.286458</td>\n",
       "      <td>11.405917</td>\n",
       "      <td>9.0</td>\n",
       "      <td>23</td>\n",
       "      <td>BIKE</td>\n",
       "      <td>Cuauhtémoc</td>\n",
       "      <td>06500</td>\n",
       "    </tr>\n",
       "    <tr>\n",
       "      <th>2</th>\n",
       "      <td>3</td>\n",
       "      <td>0.878218</td>\n",
       "      <td>1.429620</td>\n",
       "      <td>1.229706</td>\n",
       "      <td>61.609925</td>\n",
       "      <td>11.563296</td>\n",
       "      <td>9.500000</td>\n",
       "      <td>10.291480</td>\n",
       "      <td>8.330778</td>\n",
       "      <td>8.624914</td>\n",
       "      <td>20.445359</td>\n",
       "      <td>12.762523</td>\n",
       "      <td>12.0</td>\n",
       "      <td>3</td>\n",
       "      <td>BIKE,TPV</td>\n",
       "      <td>Cuauhtémoc</td>\n",
       "      <td>06600</td>\n",
       "    </tr>\n",
       "    <tr>\n",
       "      <th>16</th>\n",
       "      <td>17</td>\n",
       "      <td>0.779199</td>\n",
       "      <td>1.591644</td>\n",
       "      <td>1.531099</td>\n",
       "      <td>46.510779</td>\n",
       "      <td>12.155662</td>\n",
       "      <td>11.100000</td>\n",
       "      <td>9.947184</td>\n",
       "      <td>8.368226</td>\n",
       "      <td>8.471467</td>\n",
       "      <td>19.675823</td>\n",
       "      <td>11.763955</td>\n",
       "      <td>10.0</td>\n",
       "      <td>17</td>\n",
       "      <td>BIKE,TPV</td>\n",
       "      <td>Cuauhtémoc</td>\n",
       "      <td>NaN</td>\n",
       "    </tr>\n",
       "    <tr>\n",
       "      <th>5</th>\n",
       "      <td>6</td>\n",
       "      <td>1.464562</td>\n",
       "      <td>1.638639</td>\n",
       "      <td>1.290205</td>\n",
       "      <td>72.756853</td>\n",
       "      <td>13.601706</td>\n",
       "      <td>11.716667</td>\n",
       "      <td>9.056689</td>\n",
       "      <td>7.637509</td>\n",
       "      <td>8.028420</td>\n",
       "      <td>23.856441</td>\n",
       "      <td>13.733221</td>\n",
       "      <td>14.0</td>\n",
       "      <td>6</td>\n",
       "      <td>BIKE</td>\n",
       "      <td>Cuauhtémoc</td>\n",
       "      <td>06500</td>\n",
       "    </tr>\n",
       "    <tr>\n",
       "      <th>8</th>\n",
       "      <td>9</td>\n",
       "      <td>0.972902</td>\n",
       "      <td>1.429125</td>\n",
       "      <td>1.204956</td>\n",
       "      <td>53.669847</td>\n",
       "      <td>11.490620</td>\n",
       "      <td>9.716667</td>\n",
       "      <td>8.682290</td>\n",
       "      <td>7.830252</td>\n",
       "      <td>7.954781</td>\n",
       "      <td>22.958984</td>\n",
       "      <td>12.569157</td>\n",
       "      <td>12.0</td>\n",
       "      <td>9</td>\n",
       "      <td>BIKE</td>\n",
       "      <td>Cuauhtémoc</td>\n",
       "      <td>06500</td>\n",
       "    </tr>\n",
       "    <tr>\n",
       "      <th>10</th>\n",
       "      <td>11</td>\n",
       "      <td>0.851568</td>\n",
       "      <td>1.437120</td>\n",
       "      <td>1.235843</td>\n",
       "      <td>52.424246</td>\n",
       "      <td>11.749182</td>\n",
       "      <td>10.016667</td>\n",
       "      <td>8.304648</td>\n",
       "      <td>7.893787</td>\n",
       "      <td>8.118002</td>\n",
       "      <td>21.623746</td>\n",
       "      <td>13.192893</td>\n",
       "      <td>13.0</td>\n",
       "      <td>11</td>\n",
       "      <td>BIKE</td>\n",
       "      <td>Cuauhtémoc</td>\n",
       "      <td>06500</td>\n",
       "    </tr>\n",
       "    <tr>\n",
       "      <th>1</th>\n",
       "      <td>2</td>\n",
       "      <td>1.333681</td>\n",
       "      <td>1.514350</td>\n",
       "      <td>1.125163</td>\n",
       "      <td>64.805139</td>\n",
       "      <td>12.905223</td>\n",
       "      <td>10.441667</td>\n",
       "      <td>8.045990</td>\n",
       "      <td>7.431823</td>\n",
       "      <td>7.599974</td>\n",
       "      <td>25.278020</td>\n",
       "      <td>13.829493</td>\n",
       "      <td>14.0</td>\n",
       "      <td>2</td>\n",
       "      <td>BIKE</td>\n",
       "      <td>Cuauhtémoc</td>\n",
       "      <td>06500</td>\n",
       "    </tr>\n",
       "    <tr>\n",
       "      <th>14</th>\n",
       "      <td>15</td>\n",
       "      <td>1.080949</td>\n",
       "      <td>1.786547</td>\n",
       "      <td>1.548524</td>\n",
       "      <td>51.683027</td>\n",
       "      <td>12.534905</td>\n",
       "      <td>11.200000</td>\n",
       "      <td>9.726877</td>\n",
       "      <td>9.067916</td>\n",
       "      <td>9.268449</td>\n",
       "      <td>20.085393</td>\n",
       "      <td>12.444444</td>\n",
       "      <td>11.0</td>\n",
       "      <td>15</td>\n",
       "      <td>BIKE,TPV</td>\n",
       "      <td>Cuauhtémoc</td>\n",
       "      <td>06500</td>\n",
       "    </tr>\n",
       "  </tbody>\n",
       "</table>\n",
       "</div>"
      ],
      "text/plain": [
       "    a_Ciclo_Estacion_Arribo_  a_distancia_var  a_distancia_mean  \\\n",
       "5                          6         1.464562          1.638639   \n",
       "22                        23         1.304908          1.813213   \n",
       "11                        12         1.119614          1.479051   \n",
       "23                        24         1.388607          1.767427   \n",
       "22                        23         1.304908          1.813213   \n",
       "2                          3         0.878218          1.429620   \n",
       "16                        17         0.779199          1.591644   \n",
       "5                          6         1.464562          1.638639   \n",
       "8                          9         0.972902          1.429125   \n",
       "10                        11         0.851568          1.437120   \n",
       "1                          2         1.333681          1.514350   \n",
       "14                        15         1.080949          1.786547   \n",
       "\n",
       "    a_distancia_median  a_minutos_usados_var  a_minutos_usados_mean  \\\n",
       "5             1.290205             72.756853              13.601706   \n",
       "22            1.594327             55.747970              13.302682   \n",
       "11            1.258110             53.715012              11.936774   \n",
       "23            1.522425             65.593555              13.320958   \n",
       "22            1.594327             55.747970              13.302682   \n",
       "2             1.229706             61.609925              11.563296   \n",
       "16            1.531099             46.510779              12.155662   \n",
       "5             1.290205             72.756853              13.601706   \n",
       "8             1.204956             53.669847              11.490620   \n",
       "10            1.235843             52.424246              11.749182   \n",
       "1             1.125163             64.805139              12.905223   \n",
       "14            1.548524             51.683027              12.534905   \n",
       "\n",
       "    a_minutos_usados_median  a_velocidad_var  a_velocidad_mean  \\\n",
       "5                 11.716667         9.056689          7.637509   \n",
       "22                12.050000        10.791291          8.472594   \n",
       "11                 9.858333         9.259274          7.869834   \n",
       "23                11.816667         9.230605          8.271336   \n",
       "22                12.050000        10.791291          8.472594   \n",
       "2                  9.500000        10.291480          8.330778   \n",
       "16                11.100000         9.947184          8.368226   \n",
       "5                 11.716667         9.056689          7.637509   \n",
       "8                  9.716667         8.682290          7.830252   \n",
       "10                10.016667         8.304648          7.893787   \n",
       "1                 10.441667         8.045990          7.431823   \n",
       "14                11.200000         9.726877          9.067916   \n",
       "\n",
       "    a_velocidad_median  a_h_arribo_var  a_h_arribo_mean  a_h_arribo_median  \\\n",
       "5             8.028420       23.856441        13.733221               14.0   \n",
       "22            8.894222       18.286458        11.405917                9.0   \n",
       "11            7.939813       19.636924        13.373853               14.0   \n",
       "23            8.336528       21.729778        12.643094               12.0   \n",
       "22            8.894222       18.286458        11.405917                9.0   \n",
       "2             8.624914       20.445359        12.762523               12.0   \n",
       "16            8.471467       19.675823        11.763955               10.0   \n",
       "5             8.028420       23.856441        13.733221               14.0   \n",
       "8             7.954781       22.958984        12.569157               12.0   \n",
       "10            8.118002       21.623746        13.192893               13.0   \n",
       "1             7.599974       25.278020        13.829493               14.0   \n",
       "14            9.268449       20.085393        12.444444               11.0   \n",
       "\n",
       "    Ciclo_Estacion_Arribo a_Tipo de estación    a_county a_postcode  \n",
       "5                       6               BIKE  Cuauhtémoc      06500  \n",
       "22                     23               BIKE  Cuauhtémoc      06500  \n",
       "11                     12               BIKE  Cuauhtémoc      06500  \n",
       "23                     24           BIKE,TPV  Cuauhtémoc      06500  \n",
       "22                     23               BIKE  Cuauhtémoc      06500  \n",
       "2                       3           BIKE,TPV  Cuauhtémoc      06600  \n",
       "16                     17           BIKE,TPV  Cuauhtémoc        NaN  \n",
       "5                       6               BIKE  Cuauhtémoc      06500  \n",
       "8                       9               BIKE  Cuauhtémoc      06500  \n",
       "10                     11               BIKE  Cuauhtémoc      06500  \n",
       "1                       2               BIKE  Cuauhtémoc      06500  \n",
       "14                     15           BIKE,TPV  Cuauhtémoc      06500  "
      ]
     },
     "execution_count": 450,
     "metadata": {},
     "output_type": "execute_result"
    }
   ],
   "source": [
    "tad.iloc[[5,22,11,23,22,2,16,5,8,10,1,14]]"
   ]
  },
  {
   "cell_type": "code",
   "execution_count": 451,
   "metadata": {},
   "outputs": [],
   "source": [
    "from sklearn.cluster import KMeans\n",
    "from sklearn.metrics import pairwise_distances_argmin_min"
   ]
  },
  {
   "cell_type": "code",
   "execution_count": 452,
   "metadata": {},
   "outputs": [
    {
     "data": {
      "text/plain": [
       "KMeans(algorithm='auto', copy_x=True, init='k-means++', max_iter=300,\n",
       "       n_clusters=5, n_init=10, n_jobs=None, precompute_distances='auto',\n",
       "       random_state=None, tol=0.0001, verbose=0)"
      ]
     },
     "execution_count": 452,
     "metadata": {},
     "output_type": "execute_result"
    }
   ],
   "source": [
    "kmeans = KMeans(n_clusters=5)\n",
    "kmeans.fit(X)\n"
   ]
  },
  {
   "cell_type": "code",
   "execution_count": 453,
   "metadata": {},
   "outputs": [],
   "source": [
    "col=kmeans.predict(X)"
   ]
  },
  {
   "cell_type": "code",
   "execution_count": 454,
   "metadata": {},
   "outputs": [],
   "source": [
    "Xt['pred'] = Xp['pred'] = Xm['pred'] = col "
   ]
  },
  {
   "cell_type": "code",
   "execution_count": 455,
   "metadata": {},
   "outputs": [
    {
     "data": {
      "text/plain": [
       "<seaborn.axisgrid.FacetGrid at 0x7f5c97c52bb0>"
      ]
     },
     "execution_count": 455,
     "metadata": {},
     "output_type": "execute_result"
    },
    {
     "data": {
      "image/png": "[encoded data removed]",
      "text/plain": [
       "<Figure size 406.6x360 with 1 Axes>"
      ]
     },
     "metadata": {},
     "output_type": "display_data"
    },
    {
     "data": {
      "image/png": "[encoded data removed]",
      "text/plain": [
       "<Figure size 406.6x360 with 1 Axes>"
      ]
     },
     "metadata": {},
     "output_type": "display_data"
    },
    {
     "data": {
      "image/png": "[encoded data removed]",
      "text/plain": [
       "<Figure size 406.6x360 with 1 Axes>"
      ]
     },
     "metadata": {},
     "output_type": "display_data"
    }
   ],
   "source": [
    "sns.lmplot(data=Xp.sample(frac=.1),x='p1',y='p2',fit_reg=False,hue=\"pred\")\n",
    "sns.lmplot(data=Xm.sample(frac=.1),x='d1',y='d2',fit_reg=False,hue=\"pred\")\n",
    "sns.lmplot(data=Xt.sample(frac=.1),x='d1',y='d2',fit_reg=False,hue=\"pred\")"
   ]
  },
  {
   "cell_type": "code",
   "execution_count": null,
   "metadata": {},
   "outputs": [],
   "source": []
  }
 ],
 "metadata": {
  "kernelspec": {
   "display_name": "ml",
   "language": "python",
   "name": "ml"
  },
  "language_info": {
   "codemirror_mode": {
    "name": "ipython",
    "version": 3
   },
   "file_extension": ".py",
   "mimetype": "text/x-python",
   "name": "python",
   "nbconvert_exporter": "python",
   "pygments_lexer": "ipython3",
   "version": "3.8.0"
  }
 },
 "nbformat": 4,
 "nbformat_minor": 2
}
