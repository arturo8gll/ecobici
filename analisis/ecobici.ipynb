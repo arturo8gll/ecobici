{
 "cells": [
  {
   "cell_type": "code",
   "execution_count": 1,
   "metadata": {},
   "outputs": [],
   "source": [
    "import pandas as pd\n",
    "import seaborn as sns\n",
    "import numpy as np\n",
    "import matplotlib.pyplot as plt\n",
    "%matplotlib inline\n",
    "sns.set(style=\"darkgrid\")"
   ]
  },
  {
   "cell_type": "code",
   "execution_count": 329,
   "metadata": {},
   "outputs": [],
   "source": [
    "bici=pd.read_csv(\"./csv/bicimuestra.csv\")\n",
    "estacion=pd.read_csv(\"./csv/estaciones.csv\")\n",
    "direccion=pd.read_json(\"./csv/direcciones.json\")"
   ]
  },
  {
   "cell_type": "code",
   "execution_count": 330,
   "metadata": {},
   "outputs": [],
   "source": [
    "bici=bici.drop(columns=[\"Unnamed: 0\",\"Fecha_Arribo\",\"Fecha_Retiro\"])"
   ]
  },
  {
   "cell_type": "code",
   "execution_count": 331,
   "metadata": {},
   "outputs": [],
   "source": [
    "import json\n",
    "def dictToDf(listOfJSON):\n",
    "    arr = []\n",
    "    for i in listOfJSON:\n",
    "        arr.append(i)\n",
    "    return pd.DataFrame(arr)"
   ]
  },
  {
   "cell_type": "code",
   "execution_count": 332,
   "metadata": {},
   "outputs": [],
   "source": [
    "tmp=dictToDf(direccion[\"address\"])"
   ]
  },
  {
   "cell_type": "code",
   "execution_count": 334,
   "metadata": {},
   "outputs": [],
   "source": [
    "direccion=direccion.join(tmp)"
   ]
  },
  {
   "cell_type": "code",
   "execution_count": 339,
   "metadata": {},
   "outputs": [],
   "source": [
    "direccion=direccion.join(estacion)"
   ]
  },
  {
   "cell_type": "code",
   "execution_count": 344,
   "metadata": {},
   "outputs": [
    {
     "data": {
      "text/plain": [
       "Index(['place_id', 'licence', 'osm_type', 'osm_id', 'lat', 'lon',\n",
       "       'display_name', 'address', 'boundingbox', 'road', 'neighbourhood',\n",
       "       'county', 'state', 'postcode', 'country', 'country_code', 'residential',\n",
       "       'address29', 'city', 'convenience', 'hospital', 'house_number', 'hotel',\n",
       "       'restaurant', 'bicycle_parking', 'fast_food', 'clothes', 'beverages',\n",
       "       'mall', 'sports_centre', 'wood', 'cycleway', 'cafe', 'bar', 'fuel',\n",
       "       'supermarket', 'building', 'museum', 'parking', 'pedestrian',\n",
       "       'memorial', 'furniture', 'school', 'bicycle', 'place_of_worship',\n",
       "       'attraction', 'pharmacy', 'footway', 'swimming_pool', 'kindergarten',\n",
       "       'library', 'computer', 'university', 'guest_house', 'car_repair',\n",
       "       'bank', 'post_office', 'bus_station', 'track', 'stationery', 'pitch',\n",
       "       'theatre', 'laundry', 'bakery', 'beauty', 'pub', 'ID', 'Nombre',\n",
       "       'Dirección', 'Número', 'Código postal', 'districtCode', 'Colonia',\n",
       "       'altitude', 'nearbyStations/0', 'location/lat', 'location/lon',\n",
       "       'Tipo de estación', 'nearbyStations/1', 'nearbyStations/2',\n",
       "       'nearbyStations/3', 'nearbyStations/4', 'nearbyStations/5',\n",
       "       'punto_geo'],\n",
       "      dtype='object')"
      ]
     },
     "execution_count": 344,
     "metadata": {},
     "output_type": "execute_result"
    }
   ],
   "source": [
    "direccion.columns"
   ]
  },
  {
   "cell_type": "code",
   "execution_count": 340,
   "metadata": {},
   "outputs": [],
   "source": [
    "cols=[\"ID\",\"Nombre\",\"lat\",\"lon\",\"Tipo de estación\",\"Dirección\",\"districtCode\",\"county\",\"postcode\"]\n",
    "changea=[\"a_ID\",\"a_Nombre\",\"a_lat\",\"a_lon\",\"a_Tipo de estación\",\"a_Dirección\",\"a_districtCode\",\"a_county\",\"a_postcode\"]\n",
    "changer=[\"r_ID\",\"r_Nombre\",\"r_lat\",\"r_lon\",\"r_Tipo de estación\",\"r_Dirección\",\"r_districtCode\",\"r_county\",\"r_postcode\"]"
   ]
  },
  {
   "cell_type": "code",
   "execution_count": 350,
   "metadata": {},
   "outputs": [],
   "source": [
    "df=pd.merge(bici,direccion[cols],left_on=\"Ciclo_Estacion_Arribo\",right_on=\"ID\",how=\"inner\")\n",
    "df=df.rename(columns=dict(zip(cols,changea)))"
   ]
  },
  {
   "cell_type": "code",
   "execution_count": 351,
   "metadata": {},
   "outputs": [],
   "source": [
    "df=pd.merge(df,direccion[cols],left_on=\"Ciclo_Estacion_Retiro\",right_on=\"ID\",how=\"inner\")\n",
    "df=df.rename(columns=dict(zip(cols,changer)))"
   ]
  },
  {
   "cell_type": "code",
   "execution_count": 353,
   "metadata": {},
   "outputs": [],
   "source": [
    "df[\"Hora_Arribo\"]=pd.to_datetime(df[\"Hora_Arribo\"])\n",
    "df[\"Hora_Retiro\"]=pd.to_datetime(df[\"Hora_Retiro\"])"
   ]
  },
  {
   "cell_type": "code",
   "execution_count": 354,
   "metadata": {},
   "outputs": [
    {
     "data": {
      "text/html": [
       "<div>\n",
       "<style scoped>\n",
       "    .dataframe tbody tr th:only-of-type {\n",
       "        vertical-align: middle;\n",
       "    }\n",
       "\n",
       "    .dataframe tbody tr th {\n",
       "        vertical-align: top;\n",
       "    }\n",
       "\n",
       "    .dataframe thead th {\n",
       "        text-align: right;\n",
       "    }\n",
       "</style>\n",
       "<table border=\"1\" class=\"dataframe\">\n",
       "  <thead>\n",
       "    <tr style=\"text-align: right;\">\n",
       "      <th></th>\n",
       "      <th>0</th>\n",
       "    </tr>\n",
       "  </thead>\n",
       "  <tbody>\n",
       "    <tr>\n",
       "      <th>Bici</th>\n",
       "      <td>0</td>\n",
       "    </tr>\n",
       "    <tr>\n",
       "      <th>Ciclo_Estacion_Arribo</th>\n",
       "      <td>0</td>\n",
       "    </tr>\n",
       "    <tr>\n",
       "      <th>Ciclo_Estacion_Retiro</th>\n",
       "      <td>0</td>\n",
       "    </tr>\n",
       "    <tr>\n",
       "      <th>Edad_Usuario</th>\n",
       "      <td>0</td>\n",
       "    </tr>\n",
       "    <tr>\n",
       "      <th>Genero_Usuario</th>\n",
       "      <td>0</td>\n",
       "    </tr>\n",
       "    <tr>\n",
       "      <th>Hora_Arribo</th>\n",
       "      <td>0</td>\n",
       "    </tr>\n",
       "    <tr>\n",
       "      <th>Hora_Retiro</th>\n",
       "      <td>0</td>\n",
       "    </tr>\n",
       "    <tr>\n",
       "      <th>a_ID</th>\n",
       "      <td>0</td>\n",
       "    </tr>\n",
       "    <tr>\n",
       "      <th>a_Nombre</th>\n",
       "      <td>0</td>\n",
       "    </tr>\n",
       "    <tr>\n",
       "      <th>a_lat</th>\n",
       "      <td>0</td>\n",
       "    </tr>\n",
       "    <tr>\n",
       "      <th>a_lon</th>\n",
       "      <td>0</td>\n",
       "    </tr>\n",
       "    <tr>\n",
       "      <th>a_Tipo de estación</th>\n",
       "      <td>0</td>\n",
       "    </tr>\n",
       "    <tr>\n",
       "      <th>a_Dirección</th>\n",
       "      <td>0</td>\n",
       "    </tr>\n",
       "    <tr>\n",
       "      <th>a_districtCode</th>\n",
       "      <td>247</td>\n",
       "    </tr>\n",
       "    <tr>\n",
       "      <th>a_county</th>\n",
       "      <td>0</td>\n",
       "    </tr>\n",
       "    <tr>\n",
       "      <th>a_postcode</th>\n",
       "      <td>2262</td>\n",
       "    </tr>\n",
       "    <tr>\n",
       "      <th>r_ID</th>\n",
       "      <td>0</td>\n",
       "    </tr>\n",
       "    <tr>\n",
       "      <th>r_Nombre</th>\n",
       "      <td>0</td>\n",
       "    </tr>\n",
       "    <tr>\n",
       "      <th>r_lat</th>\n",
       "      <td>0</td>\n",
       "    </tr>\n",
       "    <tr>\n",
       "      <th>r_lon</th>\n",
       "      <td>0</td>\n",
       "    </tr>\n",
       "    <tr>\n",
       "      <th>r_Tipo de estación</th>\n",
       "      <td>0</td>\n",
       "    </tr>\n",
       "    <tr>\n",
       "      <th>r_Dirección</th>\n",
       "      <td>0</td>\n",
       "    </tr>\n",
       "    <tr>\n",
       "      <th>r_districtCode</th>\n",
       "      <td>229</td>\n",
       "    </tr>\n",
       "    <tr>\n",
       "      <th>r_county</th>\n",
       "      <td>0</td>\n",
       "    </tr>\n",
       "    <tr>\n",
       "      <th>r_postcode</th>\n",
       "      <td>2197</td>\n",
       "    </tr>\n",
       "  </tbody>\n",
       "</table>\n",
       "</div>"
      ],
      "text/plain": [
       "                          0\n",
       "Bici                      0\n",
       "Ciclo_Estacion_Arribo     0\n",
       "Ciclo_Estacion_Retiro     0\n",
       "Edad_Usuario              0\n",
       "Genero_Usuario            0\n",
       "Hora_Arribo               0\n",
       "Hora_Retiro               0\n",
       "a_ID                      0\n",
       "a_Nombre                  0\n",
       "a_lat                     0\n",
       "a_lon                     0\n",
       "a_Tipo de estación        0\n",
       "a_Dirección               0\n",
       "a_districtCode          247\n",
       "a_county                  0\n",
       "a_postcode             2262\n",
       "r_ID                      0\n",
       "r_Nombre                  0\n",
       "r_lat                     0\n",
       "r_lon                     0\n",
       "r_Tipo de estación        0\n",
       "r_Dirección               0\n",
       "r_districtCode          229\n",
       "r_county                  0\n",
       "r_postcode             2197"
      ]
     },
     "execution_count": 354,
     "metadata": {},
     "output_type": "execute_result"
    }
   ],
   "source": [
    "df.isnull().sum().to_frame()"
   ]
  },
  {
   "cell_type": "code",
   "execution_count": 356,
   "metadata": {},
   "outputs": [],
   "source": [
    "# calcula la distancia en base  de la longitud y latitud de dos puntos\n",
    "from math import radians, sin, cos, acos\n",
    "def distance(lat1,lon1,lat2,lon2):\n",
    "    if lat1==lat2 and lon1==lon2:\n",
    "        return 0\n",
    "    slat = radians(lat1)\n",
    "    slon = radians(lon1)\n",
    "    elat = radians(lat2)\n",
    "    elon = radians(lon2)\n",
    "    \n",
    "    return 6371.01 *acos(sin(slat)*sin(elat) + cos(slat)*cos(elat)*cos(slon - elon))"
   ]
  },
  {
   "cell_type": "code",
   "execution_count": 357,
   "metadata": {},
   "outputs": [],
   "source": [
    "df[\"distancia\"]=df.apply(lambda x: distance(x[\"r_lat\"],x[\"r_lon\"],x[\"a_lat\"],x[\"a_lon\"]),axis=1)\n",
    "df=df[df[\"Edad_Usuario\"]<66]"
   ]
  },
  {
   "cell_type": "code",
   "execution_count": 358,
   "metadata": {},
   "outputs": [
    {
     "data": {
      "text/plain": [
       "count    169023.000000\n",
       "mean          1.749877\n",
       "std           1.315375\n",
       "min           0.000000\n",
       "25%           0.823569\n",
       "50%           1.385493\n",
       "75%           2.331555\n",
       "max          10.421930\n",
       "Name: distancia, dtype: float64"
      ]
     },
     "execution_count": 358,
     "metadata": {},
     "output_type": "execute_result"
    }
   ],
   "source": [
    "df[\"distancia\"].describe()"
   ]
  },
  {
   "cell_type": "code",
   "execution_count": 359,
   "metadata": {},
   "outputs": [],
   "source": [
    "df[\"minutos_usados\"]=(df[\"Hora_Arribo\"]-df[\"Hora_Retiro\"])/ np.timedelta64(1, 'm')"
   ]
  },
  {
   "cell_type": "code",
   "execution_count": 360,
   "metadata": {},
   "outputs": [],
   "source": [
    "df[\"h_arribo\"]=df[\"Hora_Arribo\"].dt.hour\n",
    "df[\"h_retiro\"]=df[\"Hora_Retiro\"].dt.hour"
   ]
  },
  {
   "cell_type": "code",
   "execution_count": 361,
   "metadata": {},
   "outputs": [
    {
     "data": {
      "text/plain": [
       "count    169023.000000\n",
       "mean         11.592106\n",
       "std          60.163217\n",
       "min       -1437.750000\n",
       "0%        -1437.750000\n",
       "1%            2.153667\n",
       "5%            3.433333\n",
       "10%           4.383333\n",
       "20%           5.966667\n",
       "30%           7.450000\n",
       "40%           9.050000\n",
       "50%          10.866667\n",
       "60%          13.083333\n",
       "70%          15.883333\n",
       "80%          19.900000\n",
       "90%          26.616667\n",
       "95%          33.081667\n",
       "99%          49.250000\n",
       "max         965.600000\n",
       "Name: minutos_usados, dtype: float64"
      ]
     },
     "execution_count": 361,
     "metadata": {},
     "output_type": "execute_result"
    }
   ],
   "source": [
    "df[\"minutos_usados\"].describe(percentiles = [x/10 for x in range(10)] + [0.01, 0.05, 0.95, 0.99])"
   ]
  },
  {
   "cell_type": "code",
   "execution_count": 362,
   "metadata": {},
   "outputs": [],
   "source": [
    "def percentiles(df,variable):\n",
    "    desc = df[variable].describe(percentiles=[0.01,0.99])\n",
    "    aux = df.copy()\n",
    "    return aux[(aux[variable]>desc[\"1%\"]) & (aux[variable]<desc[\"99%\"])]"
   ]
  },
  {
   "cell_type": "code",
   "execution_count": 363,
   "metadata": {},
   "outputs": [],
   "source": [
    "aux=percentiles(df,\"minutos_usados\")"
   ]
  },
  {
   "cell_type": "code",
   "execution_count": 365,
   "metadata": {},
   "outputs": [
    {
     "data": {
      "text/plain": [
       "count    165639.000000\n",
       "mean         13.303422\n",
       "std           8.748409\n",
       "min           2.166667\n",
       "0%            2.166667\n",
       "1%            2.600000\n",
       "5%            3.616667\n",
       "10%           4.516667\n",
       "20%           6.050000\n",
       "30%           7.516667\n",
       "40%           9.083333\n",
       "50%          10.866667\n",
       "60%          13.033333\n",
       "70%          15.750000\n",
       "80%          19.600000\n",
       "90%          25.900000\n",
       "95%          31.516667\n",
       "99%          41.427000\n",
       "max          49.216667\n",
       "Name: minutos_usados, dtype: float64"
      ]
     },
     "execution_count": 365,
     "metadata": {},
     "output_type": "execute_result"
    }
   ],
   "source": [
    "aux[\"minutos_usados\"].describe(percentiles = [x/10 for x in range(10)] + [0.01, 0.05, 0.95, 0.99])"
   ]
  },
  {
   "cell_type": "code",
   "execution_count": 366,
   "metadata": {},
   "outputs": [
    {
     "data": {
      "text/plain": [
       "array([[<matplotlib.axes._subplots.AxesSubplot object at 0x7faac01f2b80>,\n",
       "        <matplotlib.axes._subplots.AxesSubplot object at 0x7faac0c08310>]],\n",
       "      dtype=object)"
      ]
     },
     "execution_count": 366,
     "metadata": {},
     "output_type": "execute_result"
    },
    {
     "data": {
      "image/png": "[encoded data removed]",
      "text/plain": [
       "<Figure size 1440x720 with 2 Axes>"
      ]
     },
     "metadata": {},
     "output_type": "display_data"
    }
   ],
   "source": [
    "cols=[\"h_retiro\",\"h_arribo\"]\n",
    "aux[cols].hist(figsize=(20,10))"
   ]
  },
  {
   "cell_type": "code",
   "execution_count": 367,
   "metadata": {},
   "outputs": [
    {
     "data": {
      "text/plain": [
       "array([[<matplotlib.axes._subplots.AxesSubplot object at 0x7faac24c4550>,\n",
       "        <matplotlib.axes._subplots.AxesSubplot object at 0x7faabcdcbb50>]],\n",
       "      dtype=object)"
      ]
     },
     "execution_count": 367,
     "metadata": {},
     "output_type": "execute_result"
    },
    {
     "data": {
      "image/png": "[encoded data removed]",
      "text/plain": [
       "<Figure size 1440x720 with 2 Axes>"
      ]
     },
     "metadata": {},
     "output_type": "display_data"
    }
   ],
   "source": [
    "cols=[\"distancia\",\"minutos_usados\"]\n",
    "aux[aux[\"Ciclo_Estacion_Arribo\"]==211][cols].hist(figsize=(20,10))"
   ]
  },
  {
   "cell_type": "code",
   "execution_count": 368,
   "metadata": {},
   "outputs": [
    {
     "data": {
      "text/plain": [
       "Cuauhtémoc        96499\n",
       "Miguel Hidalgo    35809\n",
       "Benito Juárez     33331\n",
       "Name: r_county, dtype: int64"
      ]
     },
     "execution_count": 368,
     "metadata": {},
     "output_type": "execute_result"
    }
   ],
   "source": [
    "aux[\"r_county\"].value_counts()"
   ]
  },
  {
   "cell_type": "code",
   "execution_count": 369,
   "metadata": {},
   "outputs": [
    {
     "data": {
      "text/plain": [
       "Cuauhtémoc        100323\n",
       "Benito Juárez      32841\n",
       "Miguel Hidalgo     32475\n",
       "Name: a_county, dtype: int64"
      ]
     },
     "execution_count": 369,
     "metadata": {},
     "output_type": "execute_result"
    }
   ],
   "source": [
    "aux[\"a_county\"].value_counts()"
   ]
  },
  {
   "cell_type": "code",
   "execution_count": 370,
   "metadata": {},
   "outputs": [
    {
     "data": {
      "text/plain": [
       "a_postcode\n",
       "03740    10.593965\n",
       "03200    10.985555\n",
       "03330    11.113880\n",
       "06100    11.418913\n",
       "11550    11.449871\n",
       "           ...    \n",
       "11529    17.606098\n",
       "03600    17.690879\n",
       "06000    19.214511\n",
       "11000    19.362331\n",
       "11040    19.533994\n",
       "Name: minutos_usados, Length: 66, dtype: float64"
      ]
     },
     "execution_count": 370,
     "metadata": {},
     "output_type": "execute_result"
    }
   ],
   "source": [
    "aux.groupby([\"a_postcode\"]).mean()[\"minutos_usados\"].sort_values()"
   ]
  },
  {
   "cell_type": "code",
   "execution_count": 371,
   "metadata": {},
   "outputs": [
    {
     "data": {
      "text/plain": [
       "r_postcode\n",
       "03740    11.011857\n",
       "03104    11.259530\n",
       "03240    11.468289\n",
       "03200    11.524882\n",
       "06100    11.651469\n",
       "           ...    \n",
       "06000    17.204952\n",
       "11529    17.399249\n",
       "11040    19.269077\n",
       "11480    19.429017\n",
       "11000    21.838159\n",
       "Name: minutos_usados, Length: 66, dtype: float64"
      ]
     },
     "execution_count": 371,
     "metadata": {},
     "output_type": "execute_result"
    }
   ],
   "source": [
    "aux.groupby([\"r_postcode\"]).mean()[\"minutos_usados\"].sort_values()"
   ]
  },
  {
   "cell_type": "code",
   "execution_count": 372,
   "metadata": {},
   "outputs": [
    {
     "data": {
      "text/plain": [
       "<matplotlib.axes._subplots.AxesSubplot at 0x7faab8fb3cd0>"
      ]
     },
     "execution_count": 372,
     "metadata": {},
     "output_type": "execute_result"
    },
    {
     "data": {
      "image/png": "[encoded data removed]",
      "text/plain": [
       "<Figure size 1440x720 with 1 Axes>"
      ]
     },
     "metadata": {},
     "output_type": "display_data"
    }
   ],
   "source": [
    "aux.groupby([\"a_postcode\"]).mean()[\"minutos_usados\"].hist(figsize=(20,10))"
   ]
  },
  {
   "cell_type": "code",
   "execution_count": 373,
   "metadata": {},
   "outputs": [
    {
     "data": {
      "text/plain": [
       "<matplotlib.axes._subplots.AxesSubplot at 0x7faab8fbbb80>"
      ]
     },
     "execution_count": 373,
     "metadata": {},
     "output_type": "execute_result"
    },
    {
     "data": {
      "image/png": "[encoded data removed]",
      "text/plain": [
       "<Figure size 1440x720 with 1 Axes>"
      ]
     },
     "metadata": {},
     "output_type": "display_data"
    }
   ],
   "source": [
    "aux.groupby([\"r_postcode\"]).mean()[\"minutos_usados\"].hist(figsize=(20,10))"
   ]
  },
  {
   "cell_type": "code",
   "execution_count": 376,
   "metadata": {},
   "outputs": [],
   "source": [
    "test=aux[aux[\"h_retiro\"]==18][[\"r_county\",\"a_county\",\"Bici\"]].groupby([\"r_county\",\"a_county\"]).count().reset_index()"
   ]
  },
  {
   "cell_type": "code",
   "execution_count": 378,
   "metadata": {},
   "outputs": [
    {
     "data": {
      "text/html": [
       "<div>\n",
       "<style scoped>\n",
       "    .dataframe tbody tr th:only-of-type {\n",
       "        vertical-align: middle;\n",
       "    }\n",
       "\n",
       "    .dataframe tbody tr th {\n",
       "        vertical-align: top;\n",
       "    }\n",
       "\n",
       "    .dataframe thead th {\n",
       "        text-align: right;\n",
       "    }\n",
       "</style>\n",
       "<table border=\"1\" class=\"dataframe\">\n",
       "  <thead>\n",
       "    <tr style=\"text-align: right;\">\n",
       "      <th></th>\n",
       "      <th>r_county</th>\n",
       "      <th>a_county</th>\n",
       "      <th>Bici</th>\n",
       "    </tr>\n",
       "  </thead>\n",
       "  <tbody>\n",
       "    <tr>\n",
       "      <th>0</th>\n",
       "      <td>Benito Juárez</td>\n",
       "      <td>Benito Juárez</td>\n",
       "      <td>2144</td>\n",
       "    </tr>\n",
       "    <tr>\n",
       "      <th>1</th>\n",
       "      <td>Benito Juárez</td>\n",
       "      <td>Cuauhtémoc</td>\n",
       "      <td>719</td>\n",
       "    </tr>\n",
       "    <tr>\n",
       "      <th>2</th>\n",
       "      <td>Benito Juárez</td>\n",
       "      <td>Miguel Hidalgo</td>\n",
       "      <td>212</td>\n",
       "    </tr>\n",
       "    <tr>\n",
       "      <th>3</th>\n",
       "      <td>Cuauhtémoc</td>\n",
       "      <td>Benito Juárez</td>\n",
       "      <td>658</td>\n",
       "    </tr>\n",
       "    <tr>\n",
       "      <th>4</th>\n",
       "      <td>Cuauhtémoc</td>\n",
       "      <td>Cuauhtémoc</td>\n",
       "      <td>7283</td>\n",
       "    </tr>\n",
       "    <tr>\n",
       "      <th>5</th>\n",
       "      <td>Cuauhtémoc</td>\n",
       "      <td>Miguel Hidalgo</td>\n",
       "      <td>719</td>\n",
       "    </tr>\n",
       "    <tr>\n",
       "      <th>6</th>\n",
       "      <td>Miguel Hidalgo</td>\n",
       "      <td>Benito Juárez</td>\n",
       "      <td>389</td>\n",
       "    </tr>\n",
       "    <tr>\n",
       "      <th>7</th>\n",
       "      <td>Miguel Hidalgo</td>\n",
       "      <td>Cuauhtémoc</td>\n",
       "      <td>2517</td>\n",
       "    </tr>\n",
       "    <tr>\n",
       "      <th>8</th>\n",
       "      <td>Miguel Hidalgo</td>\n",
       "      <td>Miguel Hidalgo</td>\n",
       "      <td>1786</td>\n",
       "    </tr>\n",
       "  </tbody>\n",
       "</table>\n",
       "</div>"
      ],
      "text/plain": [
       "         r_county        a_county  Bici\n",
       "0   Benito Juárez   Benito Juárez  2144\n",
       "1   Benito Juárez      Cuauhtémoc   719\n",
       "2   Benito Juárez  Miguel Hidalgo   212\n",
       "3      Cuauhtémoc   Benito Juárez   658\n",
       "4      Cuauhtémoc      Cuauhtémoc  7283\n",
       "5      Cuauhtémoc  Miguel Hidalgo   719\n",
       "6  Miguel Hidalgo   Benito Juárez   389\n",
       "7  Miguel Hidalgo      Cuauhtémoc  2517\n",
       "8  Miguel Hidalgo  Miguel Hidalgo  1786"
      ]
     },
     "execution_count": 378,
     "metadata": {},
     "output_type": "execute_result"
    }
   ],
   "source": [
    "test"
   ]
  },
  {
   "cell_type": "code",
   "execution_count": 379,
   "metadata": {},
   "outputs": [
    {
     "data": {
      "text/plain": [
       "<seaborn.axisgrid.FacetGrid at 0x7faab95e2d60>"
      ]
     },
     "execution_count": 379,
     "metadata": {},
     "output_type": "execute_result"
    },
    {
     "data": {
      "image/png": "[encoded data removed]",
      "text/plain": [
       "<Figure size 553.725x432 with 1 Axes>"
      ]
     },
     "metadata": {},
     "output_type": "display_data"
    }
   ],
   "source": [
    "# Draw a nested barplot to show survival for class and sex\n",
    "g = sns.catplot(x=\"r_county\", y=\"Bici\", hue=\"a_county\", data=test,\n",
    "                height=6, kind=\"bar\", palette=\"muted\")\n",
    "g.despine(left=True)\n",
    "g.set_ylabels(\"survival probability\")"
   ]
  },
  {
   "cell_type": "code",
   "execution_count": null,
   "metadata": {},
   "outputs": [],
   "source": []
  }
 ],
 "metadata": {
  "kernelspec": {
   "display_name": "ml",
   "language": "python",
   "name": "ml"
  },
  "language_info": {
   "codemirror_mode": {
    "name": "ipython",
    "version": 3
   },
   "file_extension": ".py",
   "mimetype": "text/x-python",
   "name": "python",
   "nbconvert_exporter": "python",
   "pygments_lexer": "ipython3",
   "version": "3.8.0"
  }
 },
 "nbformat": 4,
 "nbformat_minor": 2
}
